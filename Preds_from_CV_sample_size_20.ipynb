{
 "cells": [
  {
   "cell_type": "code",
   "execution_count": 1,
   "id": "e323f1ac",
   "metadata": {},
   "outputs": [],
   "source": [
    "# import the necessary libraries\n",
    "import pandas as pd\n",
    "import numpy as np\n",
    "import matplotlib.pyplot as plt\n",
    "import os\n",
    "import random\n",
    "import shutil\n",
    "import cv2\n",
    "from scipy import ndimage\n",
    "from skimage.transform import resize\n",
    "from joblib import Parallel, delayed\n",
    "import tensorflow as tf\n",
    "from sklearn.model_selection import KFold\n",
    "from tqdm.notebook import tqdm"
   ]
  },
  {
   "cell_type": "code",
   "execution_count": 2,
   "id": "ab5fedc4",
   "metadata": {},
   "outputs": [],
   "source": [
    "# load the models\n",
    "\n",
    "model_path = r\"C:\\Users\\15739\\Desktop\\UNL - all\\Fall 2022\\Manuscript\\Filtered_90\\codes_and_models\"\n",
    "\n",
    "model_names = ['model_samples201.h5', 'model_samples202.h5', 'model_samples203.h5', 'model_samples204.h5','model_samples205.h5']"
   ]
  },
  {
   "cell_type": "code",
   "execution_count": 3,
   "id": "d7483b3c",
   "metadata": {},
   "outputs": [],
   "source": [
    "loaded_models = []\n",
    "for model in model_names:\n",
    "    model_ld = tf.keras.models.load_model(model)\n",
    "    loaded_models.append(model_ld)"
   ]
  },
  {
   "cell_type": "code",
   "execution_count": 4,
   "id": "582f0289",
   "metadata": {},
   "outputs": [],
   "source": [
    "numpy_folder = r\"C:\\Users\\15739\\Desktop\\UNL - all\\Fall 2022\\Manuscript\\Filtered_90\\np_test_filtered90\"\n",
    "test_files = os.listdir(numpy_folder)"
   ]
  },
  {
   "cell_type": "code",
   "execution_count": 6,
   "id": "cb7b30e3",
   "metadata": {},
   "outputs": [
    {
     "data": {
      "text/plain": [
       "65"
      ]
     },
     "execution_count": 6,
     "metadata": {},
     "output_type": "execute_result"
    }
   ],
   "source": [
    "len(test_files)"
   ]
  },
  {
   "cell_type": "code",
   "execution_count": 7,
   "id": "65be27de",
   "metadata": {},
   "outputs": [],
   "source": [
    "# Function to get the predictions given model and image\n",
    "\n",
    "numpy_folder = r\"C:\\Users\\15739\\Desktop\\UNL - all\\Fall 2022\\Manuscript\\Filtered_90\\np_test_filtered90\"\n",
    "\n",
    "def prediction_on_test_data(model, selected_file, stride = 8, kernel_size = 32):\n",
    "#     load the cnn model\n",
    "    \n",
    "# load the image data file\n",
    "    load_image = np.load(numpy_folder + \"\\\\\"+ selected_file)\n",
    "    \n",
    "    # append the subwindows together\n",
    "\n",
    "    # get the subwindows\n",
    "    sub_windows = []\n",
    "\n",
    "    # get the image height\n",
    "    img_height = load_image.shape[0]\n",
    "    # get the image weight\n",
    "    img_width = load_image.shape[1]\n",
    "\n",
    "    for i in  range(0, img_height, stride):\n",
    "        for j in range(0, img_width, stride):\n",
    "            sub_window = load_image[i: i + kernel_size, j : j + kernel_size,:]\n",
    "#             resize the sub window\n",
    "            sub_window = resize(sub_window, (32,32,3))\n",
    "    #     append the sub window images\n",
    "            sub_windows.append((sub_window))\n",
    "\n",
    "#         stack the subwindows together to pass to the predict function\n",
    "    all_test_sub_windows = np.stack(sub_windows)\n",
    "\n",
    "    # now, to get the predictions, pass the sub windows\n",
    "    with tf.device('/CPU:0'):\n",
    "        test_image_prediction = model.predict(all_test_sub_windows, batch_size = 100)\n",
    "    \n",
    "    # density map\n",
    "    Density_map = np.zeros((img_height, img_width))\n",
    "\n",
    "    # counts map\n",
    "    counts_map = np.zeros((img_height, img_width))\n",
    "    \n",
    "    # now, for every window, we will keep adding the values together and also add the counts\n",
    "    counter = 0\n",
    "#     need a counter to move into each predicted value in the pred values list\n",
    "    for ii in range(0, img_height, stride):\n",
    "        for jj in range(0, img_width, stride):\n",
    "#         operations for density map\n",
    "#             get the window of interest\n",
    "            new_window = Density_map[ii:ii + kernel_size,jj:jj+kernel_size]\n",
    "#     fill each with the value c_k\n",
    "            counts_window = np.full((new_window.shape[0], new_window.shape[1]), test_image_prediction[counter])\n",
    "#     get the shapes of this new window\n",
    "            cw_height = counts_window.shape[0]\n",
    "            cw_width = counts_window.shape[1]\n",
    "#         Do c_k/r_2\n",
    "            counts_window_new = counts_window/(cw_height*cw_width)\n",
    "#     This is the value in the window now\n",
    "            value_window = counts_window_new\n",
    "#     place the values in the corrsponding area of the density map\n",
    "            Density_map[ii:ii + kernel_size,jj:jj+kernel_size] = new_window + value_window\n",
    "\n",
    "#         Let's now focus on capturing the counts of the windows\n",
    "            new_window_c = counts_map[ii:ii + kernel_size,jj:jj+kernel_size]\n",
    "#     get the counts area\n",
    "            count = np.ones((new_window_c.shape[0], new_window_c.shape[1]))\n",
    "#     keep adding the counts to reflect the addition of densities\n",
    "            counts_map[ii:ii + kernel_size,jj:jj+kernel_size] = new_window_c + count\n",
    "#     increase the counter\n",
    "            counter = counter + 1\n",
    "            \n",
    "#         get the normalized count\n",
    "    normalized_counts = np.divide(Density_map, counts_map)\n",
    "    \n",
    "#     entire count on the test set\n",
    "    pred_on_test = np.sum(normalized_counts)\n",
    "    \n",
    "#     return the predicted value\n",
    "    return(pred_on_test, normalized_counts, selected_file)\n"
   ]
  },
  {
   "cell_type": "markdown",
   "id": "7583cf84",
   "metadata": {},
   "source": [
    "Preds for model 1"
   ]
  },
  {
   "cell_type": "code",
   "execution_count": 8,
   "id": "9a9a9a92",
   "metadata": {},
   "outputs": [],
   "source": [
    "model = loaded_models[0]"
   ]
  },
  {
   "cell_type": "code",
   "execution_count": 9,
   "id": "edca452b",
   "metadata": {
    "scrolled": true
   },
   "outputs": [
    {
     "data": {
      "application/vnd.jupyter.widget-view+json": {
       "model_id": "87fe53314aea433aa2ed8cb8b5faa82f",
       "version_major": 2,
       "version_minor": 0
      },
      "text/plain": [
       "  0%|          | 0/65 [00:00<?, ?it/s]"
      ]
     },
     "metadata": {},
     "output_type": "display_data"
    }
   ],
   "source": [
    "# get the preds and normalized counts\n",
    "\n",
    "all_preds = []\n",
    "for file in tqdm(test_files):\n",
    "    results = prediction_on_test_data(model, file)\n",
    "    all_preds.append(results)"
   ]
  },
  {
   "cell_type": "code",
   "execution_count": 10,
   "id": "86676390",
   "metadata": {},
   "outputs": [
    {
     "data": {
      "text/plain": [
       "65"
      ]
     },
     "execution_count": 10,
     "metadata": {},
     "output_type": "execute_result"
    }
   ],
   "source": [
    "len(all_preds)"
   ]
  },
  {
   "cell_type": "code",
   "execution_count": 11,
   "id": "06183370",
   "metadata": {},
   "outputs": [],
   "source": [
    "# get the true counts for the 65 test set images\n",
    "# import the csv file to see how it looks like\n",
    "coords_data = pd.read_csv(r\"C:\\Users\\15739\\Desktop\\UNL - all\\Fall 2022\\Manuscript\\Filtered_90\\new_annotated_coordinates_all.csv\", header = None)"
   ]
  },
  {
   "cell_type": "code",
   "execution_count": 12,
   "id": "17b597a6",
   "metadata": {},
   "outputs": [
    {
     "data": {
      "text/html": [
       "<div>\n",
       "<style scoped>\n",
       "    .dataframe tbody tr th:only-of-type {\n",
       "        vertical-align: middle;\n",
       "    }\n",
       "\n",
       "    .dataframe tbody tr th {\n",
       "        vertical-align: top;\n",
       "    }\n",
       "\n",
       "    .dataframe thead th {\n",
       "        text-align: right;\n",
       "    }\n",
       "</style>\n",
       "<table border=\"1\" class=\"dataframe\">\n",
       "  <thead>\n",
       "    <tr style=\"text-align: right;\">\n",
       "      <th></th>\n",
       "      <th>0</th>\n",
       "      <th>1</th>\n",
       "      <th>2</th>\n",
       "      <th>3</th>\n",
       "      <th>4</th>\n",
       "    </tr>\n",
       "  </thead>\n",
       "  <tbody>\n",
       "    <tr>\n",
       "      <th>0</th>\n",
       "      <td>190814_djifc6310s_Aug14_SW_row_11_range_2_rep_...</td>\n",
       "      <td>42</td>\n",
       "      <td>45</td>\n",
       "      <td>61</td>\n",
       "      <td>40</td>\n",
       "    </tr>\n",
       "    <tr>\n",
       "      <th>1</th>\n",
       "      <td>190814_djifc6310s_Aug14_SW_row_11_range_2_rep_...</td>\n",
       "      <td>40</td>\n",
       "      <td>84</td>\n",
       "      <td>65</td>\n",
       "      <td>41</td>\n",
       "    </tr>\n",
       "    <tr>\n",
       "      <th>2</th>\n",
       "      <td>190814_djifc6310s_Aug14_SW_row_11_range_2_rep_...</td>\n",
       "      <td>34</td>\n",
       "      <td>119</td>\n",
       "      <td>76</td>\n",
       "      <td>36</td>\n",
       "    </tr>\n",
       "    <tr>\n",
       "      <th>3</th>\n",
       "      <td>190814_djifc6310s_Aug14_SW_row_11_range_2_rep_...</td>\n",
       "      <td>71</td>\n",
       "      <td>430</td>\n",
       "      <td>45</td>\n",
       "      <td>50</td>\n",
       "    </tr>\n",
       "    <tr>\n",
       "      <th>4</th>\n",
       "      <td>190814_djifc6310s_Aug14_SW_row_11_range_2_rep_...</td>\n",
       "      <td>59</td>\n",
       "      <td>614</td>\n",
       "      <td>35</td>\n",
       "      <td>46</td>\n",
       "    </tr>\n",
       "  </tbody>\n",
       "</table>\n",
       "</div>"
      ],
      "text/plain": [
       "                                                   0   1    2   3   4\n",
       "0  190814_djifc6310s_Aug14_SW_row_11_range_2_rep_...  42   45  61  40\n",
       "1  190814_djifc6310s_Aug14_SW_row_11_range_2_rep_...  40   84  65  41\n",
       "2  190814_djifc6310s_Aug14_SW_row_11_range_2_rep_...  34  119  76  36\n",
       "3  190814_djifc6310s_Aug14_SW_row_11_range_2_rep_...  71  430  45  50\n",
       "4  190814_djifc6310s_Aug14_SW_row_11_range_2_rep_...  59  614  35  46"
      ]
     },
     "execution_count": 12,
     "metadata": {},
     "output_type": "execute_result"
    }
   ],
   "source": [
    "coords_data.head()"
   ]
  },
  {
   "cell_type": "code",
   "execution_count": 13,
   "id": "474657e2",
   "metadata": {},
   "outputs": [],
   "source": [
    "# add column names\n",
    "coords_data.columns = ['Image_name', 'top_x', 'top_y', 'width', 'height']"
   ]
  },
  {
   "cell_type": "code",
   "execution_count": 14,
   "id": "3952dcd8",
   "metadata": {},
   "outputs": [
    {
     "data": {
      "text/html": [
       "<div>\n",
       "<style scoped>\n",
       "    .dataframe tbody tr th:only-of-type {\n",
       "        vertical-align: middle;\n",
       "    }\n",
       "\n",
       "    .dataframe tbody tr th {\n",
       "        vertical-align: top;\n",
       "    }\n",
       "\n",
       "    .dataframe thead th {\n",
       "        text-align: right;\n",
       "    }\n",
       "</style>\n",
       "<table border=\"1\" class=\"dataframe\">\n",
       "  <thead>\n",
       "    <tr style=\"text-align: right;\">\n",
       "      <th></th>\n",
       "      <th>Image_name</th>\n",
       "      <th>top_x</th>\n",
       "      <th>top_y</th>\n",
       "      <th>width</th>\n",
       "      <th>height</th>\n",
       "    </tr>\n",
       "  </thead>\n",
       "  <tbody>\n",
       "    <tr>\n",
       "      <th>0</th>\n",
       "      <td>190814_djifc6310s_Aug14_SW_row_11_range_2_rep_...</td>\n",
       "      <td>42</td>\n",
       "      <td>45</td>\n",
       "      <td>61</td>\n",
       "      <td>40</td>\n",
       "    </tr>\n",
       "    <tr>\n",
       "      <th>1</th>\n",
       "      <td>190814_djifc6310s_Aug14_SW_row_11_range_2_rep_...</td>\n",
       "      <td>40</td>\n",
       "      <td>84</td>\n",
       "      <td>65</td>\n",
       "      <td>41</td>\n",
       "    </tr>\n",
       "    <tr>\n",
       "      <th>2</th>\n",
       "      <td>190814_djifc6310s_Aug14_SW_row_11_range_2_rep_...</td>\n",
       "      <td>34</td>\n",
       "      <td>119</td>\n",
       "      <td>76</td>\n",
       "      <td>36</td>\n",
       "    </tr>\n",
       "    <tr>\n",
       "      <th>3</th>\n",
       "      <td>190814_djifc6310s_Aug14_SW_row_11_range_2_rep_...</td>\n",
       "      <td>71</td>\n",
       "      <td>430</td>\n",
       "      <td>45</td>\n",
       "      <td>50</td>\n",
       "    </tr>\n",
       "    <tr>\n",
       "      <th>4</th>\n",
       "      <td>190814_djifc6310s_Aug14_SW_row_11_range_2_rep_...</td>\n",
       "      <td>59</td>\n",
       "      <td>614</td>\n",
       "      <td>35</td>\n",
       "      <td>46</td>\n",
       "    </tr>\n",
       "  </tbody>\n",
       "</table>\n",
       "</div>"
      ],
      "text/plain": [
       "                                          Image_name  top_x  top_y  width  \\\n",
       "0  190814_djifc6310s_Aug14_SW_row_11_range_2_rep_...     42     45     61   \n",
       "1  190814_djifc6310s_Aug14_SW_row_11_range_2_rep_...     40     84     65   \n",
       "2  190814_djifc6310s_Aug14_SW_row_11_range_2_rep_...     34    119     76   \n",
       "3  190814_djifc6310s_Aug14_SW_row_11_range_2_rep_...     71    430     45   \n",
       "4  190814_djifc6310s_Aug14_SW_row_11_range_2_rep_...     59    614     35   \n",
       "\n",
       "   height  \n",
       "0      40  \n",
       "1      41  \n",
       "2      36  \n",
       "3      50  \n",
       "4      46  "
      ]
     },
     "execution_count": 14,
     "metadata": {},
     "output_type": "execute_result"
    }
   ],
   "source": [
    "coords_data.head()"
   ]
  },
  {
   "cell_type": "code",
   "execution_count": 15,
   "id": "531446b3",
   "metadata": {},
   "outputs": [
    {
     "data": {
      "text/plain": [
       "323"
      ]
     },
     "execution_count": 15,
     "metadata": {},
     "output_type": "execute_result"
    }
   ],
   "source": [
    "len(coords_data['Image_name'].unique())"
   ]
  },
  {
   "cell_type": "code",
   "execution_count": 16,
   "id": "df45606a",
   "metadata": {},
   "outputs": [],
   "source": [
    "# how many coords in each image? \n",
    "# These are the true counts\n",
    "true_counts_df = pd.DataFrame(coords_data.groupby('Image_name').size()).reset_index()"
   ]
  },
  {
   "cell_type": "code",
   "execution_count": 17,
   "id": "83064738",
   "metadata": {},
   "outputs": [
    {
     "data": {
      "text/html": [
       "<div>\n",
       "<style scoped>\n",
       "    .dataframe tbody tr th:only-of-type {\n",
       "        vertical-align: middle;\n",
       "    }\n",
       "\n",
       "    .dataframe tbody tr th {\n",
       "        vertical-align: top;\n",
       "    }\n",
       "\n",
       "    .dataframe thead th {\n",
       "        text-align: right;\n",
       "    }\n",
       "</style>\n",
       "<table border=\"1\" class=\"dataframe\">\n",
       "  <thead>\n",
       "    <tr style=\"text-align: right;\">\n",
       "      <th></th>\n",
       "      <th>Image_name</th>\n",
       "      <th>0</th>\n",
       "    </tr>\n",
       "  </thead>\n",
       "  <tbody>\n",
       "    <tr>\n",
       "      <th>0</th>\n",
       "      <td>190812_djifc6310s_Aug12_NE_row_16_range_4_rep_...</td>\n",
       "      <td>32</td>\n",
       "    </tr>\n",
       "    <tr>\n",
       "      <th>1</th>\n",
       "      <td>190812_djifc6310s_Aug12_NE_row_18_range_4_rep_...</td>\n",
       "      <td>25</td>\n",
       "    </tr>\n",
       "    <tr>\n",
       "      <th>2</th>\n",
       "      <td>190812_djifc6310s_Aug12_NE_row_33_range_2_rep_...</td>\n",
       "      <td>51</td>\n",
       "    </tr>\n",
       "    <tr>\n",
       "      <th>3</th>\n",
       "      <td>190812_djifc6310s_Aug12_NW_row_17_range_4_rep_...</td>\n",
       "      <td>36</td>\n",
       "    </tr>\n",
       "    <tr>\n",
       "      <th>4</th>\n",
       "      <td>190812_djifc6310s_Aug12_NW_row_22_range_2_rep_...</td>\n",
       "      <td>38</td>\n",
       "    </tr>\n",
       "  </tbody>\n",
       "</table>\n",
       "</div>"
      ],
      "text/plain": [
       "                                          Image_name   0\n",
       "0  190812_djifc6310s_Aug12_NE_row_16_range_4_rep_...  32\n",
       "1  190812_djifc6310s_Aug12_NE_row_18_range_4_rep_...  25\n",
       "2  190812_djifc6310s_Aug12_NE_row_33_range_2_rep_...  51\n",
       "3  190812_djifc6310s_Aug12_NW_row_17_range_4_rep_...  36\n",
       "4  190812_djifc6310s_Aug12_NW_row_22_range_2_rep_...  38"
      ]
     },
     "execution_count": 17,
     "metadata": {},
     "output_type": "execute_result"
    }
   ],
   "source": [
    "# see the dataset\n",
    "true_counts_df.head()"
   ]
  },
  {
   "cell_type": "code",
   "execution_count": 18,
   "id": "ff3e17a8",
   "metadata": {},
   "outputs": [],
   "source": [
    "test_image_names = [i.split('.')[0] for i in test_files]"
   ]
  },
  {
   "cell_type": "code",
   "execution_count": 19,
   "id": "d222f3aa",
   "metadata": {},
   "outputs": [],
   "source": [
    "test_image_names_final = [i + '.png' for i in test_image_names]"
   ]
  },
  {
   "cell_type": "code",
   "execution_count": 20,
   "id": "28f85687",
   "metadata": {},
   "outputs": [
    {
     "data": {
      "text/plain": [
       "65"
      ]
     },
     "execution_count": 20,
     "metadata": {},
     "output_type": "execute_result"
    }
   ],
   "source": [
    "len(test_image_names)"
   ]
  },
  {
   "cell_type": "code",
   "execution_count": 21,
   "id": "86516db5",
   "metadata": {},
   "outputs": [],
   "source": [
    "# select the images in the test folder only\n",
    "test_true_counts = true_counts_df.loc[true_counts_df['Image_name'].isin(test_image_names_final)].reset_index(drop = True)"
   ]
  },
  {
   "cell_type": "code",
   "execution_count": 22,
   "id": "0fd4b0c5",
   "metadata": {},
   "outputs": [
    {
     "data": {
      "text/plain": [
       "(65, 2)"
      ]
     },
     "execution_count": 22,
     "metadata": {},
     "output_type": "execute_result"
    }
   ],
   "source": [
    "# how many images here?\n",
    "test_true_counts.shape"
   ]
  },
  {
   "cell_type": "code",
   "execution_count": 23,
   "id": "d1342161",
   "metadata": {},
   "outputs": [],
   "source": [
    "# rename the column 0 as true counts\n",
    "test_true_counts.columns = ['Image_name', \"True_count\"]"
   ]
  },
  {
   "cell_type": "code",
   "execution_count": 24,
   "id": "d9e2b058",
   "metadata": {},
   "outputs": [
    {
     "data": {
      "text/html": [
       "<div>\n",
       "<style scoped>\n",
       "    .dataframe tbody tr th:only-of-type {\n",
       "        vertical-align: middle;\n",
       "    }\n",
       "\n",
       "    .dataframe tbody tr th {\n",
       "        vertical-align: top;\n",
       "    }\n",
       "\n",
       "    .dataframe thead th {\n",
       "        text-align: right;\n",
       "    }\n",
       "</style>\n",
       "<table border=\"1\" class=\"dataframe\">\n",
       "  <thead>\n",
       "    <tr style=\"text-align: right;\">\n",
       "      <th></th>\n",
       "      <th>Image_name</th>\n",
       "      <th>True_count</th>\n",
       "    </tr>\n",
       "  </thead>\n",
       "  <tbody>\n",
       "    <tr>\n",
       "      <th>0</th>\n",
       "      <td>190812_djifc6310s_Aug12_NW_row_32_range_6_rep_...</td>\n",
       "      <td>53</td>\n",
       "    </tr>\n",
       "    <tr>\n",
       "      <th>1</th>\n",
       "      <td>190812_djifc6310s_Aug12_SE_row_21_range_3_rep_...</td>\n",
       "      <td>21</td>\n",
       "    </tr>\n",
       "    <tr>\n",
       "      <th>2</th>\n",
       "      <td>190812_djifc6310s_Aug12_SE_row_32_range_4_rep_...</td>\n",
       "      <td>19</td>\n",
       "    </tr>\n",
       "    <tr>\n",
       "      <th>3</th>\n",
       "      <td>190812_djifc6310s_Aug12_SW_row_11_range_2_rep_...</td>\n",
       "      <td>33</td>\n",
       "    </tr>\n",
       "    <tr>\n",
       "      <th>4</th>\n",
       "      <td>190814_djifc6310s_Aug14_NE_row_33_range_2_rep_...</td>\n",
       "      <td>50</td>\n",
       "    </tr>\n",
       "  </tbody>\n",
       "</table>\n",
       "</div>"
      ],
      "text/plain": [
       "                                          Image_name  True_count\n",
       "0  190812_djifc6310s_Aug12_NW_row_32_range_6_rep_...          53\n",
       "1  190812_djifc6310s_Aug12_SE_row_21_range_3_rep_...          21\n",
       "2  190812_djifc6310s_Aug12_SE_row_32_range_4_rep_...          19\n",
       "3  190812_djifc6310s_Aug12_SW_row_11_range_2_rep_...          33\n",
       "4  190814_djifc6310s_Aug14_NE_row_33_range_2_rep_...          50"
      ]
     },
     "execution_count": 24,
     "metadata": {},
     "output_type": "execute_result"
    }
   ],
   "source": [
    "test_true_counts.head()"
   ]
  },
  {
   "cell_type": "code",
   "execution_count": 25,
   "id": "14811efd",
   "metadata": {},
   "outputs": [],
   "source": [
    "# save this dataframe for future use\n",
    "test_true_counts.to_csv('true_counts_test_only_sample20.csv', index = False)"
   ]
  },
  {
   "cell_type": "code",
   "execution_count": 26,
   "id": "4da2c05c",
   "metadata": {},
   "outputs": [],
   "source": [
    "preds_list = []\n",
    "files_list = []\n",
    "for i in all_preds:\n",
    "    prediction = i[0]\n",
    "    files = i[2]\n",
    "    preds_list.append(prediction)\n",
    "    files_list.append(files)\n"
   ]
  },
  {
   "cell_type": "code",
   "execution_count": 27,
   "id": "cea6b5f2",
   "metadata": {},
   "outputs": [],
   "source": [
    "files_list_png = [x.split('.')[0] + '.png' for x in files_list]"
   ]
  },
  {
   "cell_type": "code",
   "execution_count": 28,
   "id": "1b8db6e5",
   "metadata": {},
   "outputs": [],
   "source": [
    "# d = {'Image name': Image_name, 'Predicted value': pred_data}\n",
    "preds_df  = list(zip(files_list_png, preds_list))"
   ]
  },
  {
   "cell_type": "code",
   "execution_count": 29,
   "id": "2aa1034f",
   "metadata": {},
   "outputs": [],
   "source": [
    "preds_df = pd.DataFrame(preds_df)"
   ]
  },
  {
   "cell_type": "code",
   "execution_count": 30,
   "id": "ba692cdf",
   "metadata": {},
   "outputs": [],
   "source": [
    "preds_df.columns = ['Image_name', 'Predicted_value']"
   ]
  },
  {
   "cell_type": "code",
   "execution_count": 31,
   "id": "76cfa1fa",
   "metadata": {},
   "outputs": [
    {
     "data": {
      "text/html": [
       "<div>\n",
       "<style scoped>\n",
       "    .dataframe tbody tr th:only-of-type {\n",
       "        vertical-align: middle;\n",
       "    }\n",
       "\n",
       "    .dataframe tbody tr th {\n",
       "        vertical-align: top;\n",
       "    }\n",
       "\n",
       "    .dataframe thead th {\n",
       "        text-align: right;\n",
       "    }\n",
       "</style>\n",
       "<table border=\"1\" class=\"dataframe\">\n",
       "  <thead>\n",
       "    <tr style=\"text-align: right;\">\n",
       "      <th></th>\n",
       "      <th>Image_name</th>\n",
       "      <th>Predicted_value</th>\n",
       "    </tr>\n",
       "  </thead>\n",
       "  <tbody>\n",
       "    <tr>\n",
       "      <th>0</th>\n",
       "      <td>190812_djifc6310s_Aug12_NW_row_32_range_6_rep_...</td>\n",
       "      <td>33.046166</td>\n",
       "    </tr>\n",
       "    <tr>\n",
       "      <th>1</th>\n",
       "      <td>190812_djifc6310s_Aug12_SE_row_21_range_3_rep_...</td>\n",
       "      <td>23.899351</td>\n",
       "    </tr>\n",
       "    <tr>\n",
       "      <th>2</th>\n",
       "      <td>190812_djifc6310s_Aug12_SE_row_32_range_4_rep_...</td>\n",
       "      <td>24.782596</td>\n",
       "    </tr>\n",
       "    <tr>\n",
       "      <th>3</th>\n",
       "      <td>190812_djifc6310s_Aug12_SW_row_11_range_2_rep_...</td>\n",
       "      <td>34.859175</td>\n",
       "    </tr>\n",
       "    <tr>\n",
       "      <th>4</th>\n",
       "      <td>190814_djifc6310s_Aug14_NE_row_33_range_2_rep_...</td>\n",
       "      <td>39.026368</td>\n",
       "    </tr>\n",
       "  </tbody>\n",
       "</table>\n",
       "</div>"
      ],
      "text/plain": [
       "                                          Image_name  Predicted_value\n",
       "0  190812_djifc6310s_Aug12_NW_row_32_range_6_rep_...        33.046166\n",
       "1  190812_djifc6310s_Aug12_SE_row_21_range_3_rep_...        23.899351\n",
       "2  190812_djifc6310s_Aug12_SE_row_32_range_4_rep_...        24.782596\n",
       "3  190812_djifc6310s_Aug12_SW_row_11_range_2_rep_...        34.859175\n",
       "4  190814_djifc6310s_Aug14_NE_row_33_range_2_rep_...        39.026368"
      ]
     },
     "execution_count": 31,
     "metadata": {},
     "output_type": "execute_result"
    }
   ],
   "source": [
    "preds_df.head()"
   ]
  },
  {
   "cell_type": "code",
   "execution_count": 32,
   "id": "8a916ef4",
   "metadata": {},
   "outputs": [],
   "source": [
    "# merge the true and predicted counts\n",
    "final_data = pd.merge(test_true_counts, preds_df, on = 'Image_name')"
   ]
  },
  {
   "cell_type": "code",
   "execution_count": 33,
   "id": "7456db23",
   "metadata": {},
   "outputs": [
    {
     "data": {
      "text/plain": [
       "(65, 3)"
      ]
     },
     "execution_count": 33,
     "metadata": {},
     "output_type": "execute_result"
    }
   ],
   "source": [
    "final_data.shape"
   ]
  },
  {
   "cell_type": "code",
   "execution_count": 34,
   "id": "c9f51292",
   "metadata": {},
   "outputs": [],
   "source": [
    "mae = np.mean(abs(final_data['True_count'] - final_data['Predicted_value'] ))"
   ]
  },
  {
   "cell_type": "code",
   "execution_count": 35,
   "id": "b5b7e969",
   "metadata": {},
   "outputs": [
    {
     "data": {
      "text/plain": [
       "8.565102537700852"
      ]
     },
     "execution_count": 35,
     "metadata": {},
     "output_type": "execute_result"
    }
   ],
   "source": [
    "mae"
   ]
  },
  {
   "cell_type": "code",
   "execution_count": 36,
   "id": "2a297cd6",
   "metadata": {},
   "outputs": [],
   "source": [
    "final_data.to_csv('model1_preds_s20.csv', index = False)"
   ]
  },
  {
   "cell_type": "code",
   "execution_count": 37,
   "id": "358bb2d4",
   "metadata": {},
   "outputs": [],
   "source": [
    "# need to also save the normalized counts\n",
    "norm_counts = []\n",
    "for i in all_preds:\n",
    "    count = i[1]\n",
    "    norm_counts.append(count)"
   ]
  },
  {
   "cell_type": "code",
   "execution_count": 38,
   "id": "d2dd4d80",
   "metadata": {},
   "outputs": [],
   "source": [
    "bb_app = []\n",
    "for i in range(len(norm_counts)):\n",
    "    bb = np.save(r'C:\\Users\\15739\\Desktop\\UNL - all\\Fall 2022\\Manuscript\\Filtered_90\\codes_and_models\\norm_counts_np_model1_s20' + '\\\\' + files_list[i], norm_counts[i])\n",
    "    bb_app.append(bb)"
   ]
  },
  {
   "cell_type": "markdown",
   "id": "19ae30e5",
   "metadata": {},
   "source": [
    "Preds for model 2"
   ]
  },
  {
   "cell_type": "code",
   "execution_count": 41,
   "id": "de361fc5",
   "metadata": {},
   "outputs": [],
   "source": [
    "model2 = loaded_models[1]"
   ]
  },
  {
   "cell_type": "code",
   "execution_count": 42,
   "id": "593b0781",
   "metadata": {
    "scrolled": true
   },
   "outputs": [
    {
     "data": {
      "application/vnd.jupyter.widget-view+json": {
       "model_id": "a118032b780b409a9fcd220cf8b5f8a4",
       "version_major": 2,
       "version_minor": 0
      },
      "text/plain": [
       "  0%|          | 0/65 [00:00<?, ?it/s]"
      ]
     },
     "metadata": {},
     "output_type": "display_data"
    }
   ],
   "source": [
    "# get the preds and normalized counts\n",
    "\n",
    "all_preds_model2 = []\n",
    "for file in tqdm(test_files):\n",
    "    results = prediction_on_test_data(model2, file)\n",
    "    all_preds_model2.append(results)"
   ]
  },
  {
   "cell_type": "code",
   "execution_count": 43,
   "id": "aef3cd3c",
   "metadata": {},
   "outputs": [],
   "source": [
    "preds_list_md2 = []\n",
    "files_list_md2 = []\n",
    "for i in all_preds_model2:\n",
    "    prediction = i[0]\n",
    "    files = i[2]\n",
    "    preds_list_md2.append(prediction)\n",
    "    files_list_md2.append(files)\n"
   ]
  },
  {
   "cell_type": "code",
   "execution_count": 44,
   "id": "8aa27317",
   "metadata": {},
   "outputs": [],
   "source": [
    "files_list_png = [x.split('.')[0] + '.png' for x in files_list_md2]"
   ]
  },
  {
   "cell_type": "code",
   "execution_count": 45,
   "id": "826d541c",
   "metadata": {},
   "outputs": [],
   "source": [
    "# d = {'Image name': Image_name, 'Predicted value': pred_data}\n",
    "preds_df  = list(zip(files_list_png, preds_list_md2))"
   ]
  },
  {
   "cell_type": "code",
   "execution_count": 46,
   "id": "c7f8738d",
   "metadata": {},
   "outputs": [],
   "source": [
    "preds_df = pd.DataFrame(preds_df)"
   ]
  },
  {
   "cell_type": "code",
   "execution_count": 47,
   "id": "e9944026",
   "metadata": {},
   "outputs": [],
   "source": [
    "preds_df.columns = ['Image_name', 'Predicted_value']"
   ]
  },
  {
   "cell_type": "code",
   "execution_count": 48,
   "id": "6ffb812e",
   "metadata": {},
   "outputs": [
    {
     "data": {
      "text/html": [
       "<div>\n",
       "<style scoped>\n",
       "    .dataframe tbody tr th:only-of-type {\n",
       "        vertical-align: middle;\n",
       "    }\n",
       "\n",
       "    .dataframe tbody tr th {\n",
       "        vertical-align: top;\n",
       "    }\n",
       "\n",
       "    .dataframe thead th {\n",
       "        text-align: right;\n",
       "    }\n",
       "</style>\n",
       "<table border=\"1\" class=\"dataframe\">\n",
       "  <thead>\n",
       "    <tr style=\"text-align: right;\">\n",
       "      <th></th>\n",
       "      <th>Image_name</th>\n",
       "      <th>Predicted_value</th>\n",
       "    </tr>\n",
       "  </thead>\n",
       "  <tbody>\n",
       "    <tr>\n",
       "      <th>0</th>\n",
       "      <td>190812_djifc6310s_Aug12_NW_row_32_range_6_rep_...</td>\n",
       "      <td>35.309359</td>\n",
       "    </tr>\n",
       "    <tr>\n",
       "      <th>1</th>\n",
       "      <td>190812_djifc6310s_Aug12_SE_row_21_range_3_rep_...</td>\n",
       "      <td>25.638340</td>\n",
       "    </tr>\n",
       "    <tr>\n",
       "      <th>2</th>\n",
       "      <td>190812_djifc6310s_Aug12_SE_row_32_range_4_rep_...</td>\n",
       "      <td>26.636744</td>\n",
       "    </tr>\n",
       "    <tr>\n",
       "      <th>3</th>\n",
       "      <td>190812_djifc6310s_Aug12_SW_row_11_range_2_rep_...</td>\n",
       "      <td>37.199845</td>\n",
       "    </tr>\n",
       "    <tr>\n",
       "      <th>4</th>\n",
       "      <td>190814_djifc6310s_Aug14_NE_row_33_range_2_rep_...</td>\n",
       "      <td>41.268375</td>\n",
       "    </tr>\n",
       "  </tbody>\n",
       "</table>\n",
       "</div>"
      ],
      "text/plain": [
       "                                          Image_name  Predicted_value\n",
       "0  190812_djifc6310s_Aug12_NW_row_32_range_6_rep_...        35.309359\n",
       "1  190812_djifc6310s_Aug12_SE_row_21_range_3_rep_...        25.638340\n",
       "2  190812_djifc6310s_Aug12_SE_row_32_range_4_rep_...        26.636744\n",
       "3  190812_djifc6310s_Aug12_SW_row_11_range_2_rep_...        37.199845\n",
       "4  190814_djifc6310s_Aug14_NE_row_33_range_2_rep_...        41.268375"
      ]
     },
     "execution_count": 48,
     "metadata": {},
     "output_type": "execute_result"
    }
   ],
   "source": [
    "preds_df.head()"
   ]
  },
  {
   "cell_type": "code",
   "execution_count": 49,
   "id": "849ed9d1",
   "metadata": {},
   "outputs": [],
   "source": [
    "# import the test true counts preciously stored\n",
    "test_true = pd.read_csv(\"true_counts_test_only.csv\")"
   ]
  },
  {
   "cell_type": "code",
   "execution_count": 50,
   "id": "2e2aa6c0",
   "metadata": {},
   "outputs": [
    {
     "data": {
      "text/html": [
       "<div>\n",
       "<style scoped>\n",
       "    .dataframe tbody tr th:only-of-type {\n",
       "        vertical-align: middle;\n",
       "    }\n",
       "\n",
       "    .dataframe tbody tr th {\n",
       "        vertical-align: top;\n",
       "    }\n",
       "\n",
       "    .dataframe thead th {\n",
       "        text-align: right;\n",
       "    }\n",
       "</style>\n",
       "<table border=\"1\" class=\"dataframe\">\n",
       "  <thead>\n",
       "    <tr style=\"text-align: right;\">\n",
       "      <th></th>\n",
       "      <th>Image_name</th>\n",
       "      <th>True_count</th>\n",
       "    </tr>\n",
       "  </thead>\n",
       "  <tbody>\n",
       "    <tr>\n",
       "      <th>0</th>\n",
       "      <td>190812_djifc6310s_Aug12_NW_row_32_range_6_rep_...</td>\n",
       "      <td>53</td>\n",
       "    </tr>\n",
       "    <tr>\n",
       "      <th>1</th>\n",
       "      <td>190812_djifc6310s_Aug12_SE_row_21_range_3_rep_...</td>\n",
       "      <td>21</td>\n",
       "    </tr>\n",
       "    <tr>\n",
       "      <th>2</th>\n",
       "      <td>190812_djifc6310s_Aug12_SE_row_32_range_4_rep_...</td>\n",
       "      <td>19</td>\n",
       "    </tr>\n",
       "    <tr>\n",
       "      <th>3</th>\n",
       "      <td>190812_djifc6310s_Aug12_SW_row_11_range_2_rep_...</td>\n",
       "      <td>33</td>\n",
       "    </tr>\n",
       "    <tr>\n",
       "      <th>4</th>\n",
       "      <td>190814_djifc6310s_Aug14_NE_row_33_range_2_rep_...</td>\n",
       "      <td>50</td>\n",
       "    </tr>\n",
       "  </tbody>\n",
       "</table>\n",
       "</div>"
      ],
      "text/plain": [
       "                                          Image_name  True_count\n",
       "0  190812_djifc6310s_Aug12_NW_row_32_range_6_rep_...          53\n",
       "1  190812_djifc6310s_Aug12_SE_row_21_range_3_rep_...          21\n",
       "2  190812_djifc6310s_Aug12_SE_row_32_range_4_rep_...          19\n",
       "3  190812_djifc6310s_Aug12_SW_row_11_range_2_rep_...          33\n",
       "4  190814_djifc6310s_Aug14_NE_row_33_range_2_rep_...          50"
      ]
     },
     "execution_count": 50,
     "metadata": {},
     "output_type": "execute_result"
    }
   ],
   "source": [
    "test_true.head()"
   ]
  },
  {
   "cell_type": "code",
   "execution_count": 51,
   "id": "2b19c112",
   "metadata": {},
   "outputs": [],
   "source": [
    "# merge the true and predicted counts\n",
    "final_data = pd.merge(test_true, preds_df, on = 'Image_name')"
   ]
  },
  {
   "cell_type": "code",
   "execution_count": 52,
   "id": "040a167e",
   "metadata": {},
   "outputs": [
    {
     "data": {
      "text/plain": [
       "(65, 3)"
      ]
     },
     "execution_count": 52,
     "metadata": {},
     "output_type": "execute_result"
    }
   ],
   "source": [
    "final_data.shape"
   ]
  },
  {
   "cell_type": "code",
   "execution_count": 53,
   "id": "0a68237c",
   "metadata": {},
   "outputs": [],
   "source": [
    "mae = np.mean(abs(final_data['True_count'] - final_data['Predicted_value'] ))"
   ]
  },
  {
   "cell_type": "code",
   "execution_count": 54,
   "id": "e660e0d4",
   "metadata": {},
   "outputs": [
    {
     "data": {
      "text/plain": [
       "9.173101982550504"
      ]
     },
     "execution_count": 54,
     "metadata": {},
     "output_type": "execute_result"
    }
   ],
   "source": [
    "mae"
   ]
  },
  {
   "cell_type": "code",
   "execution_count": 55,
   "id": "056176b2",
   "metadata": {},
   "outputs": [],
   "source": [
    "final_data.to_csv('model2_preds_s20.csv', index = False)"
   ]
  },
  {
   "cell_type": "code",
   "execution_count": 56,
   "id": "e37e1cbe",
   "metadata": {},
   "outputs": [],
   "source": [
    "# need to also save the normalized counts\n",
    "norm_counts = []\n",
    "for i in all_preds_model2:\n",
    "    count = i[1]\n",
    "    norm_counts.append(count)"
   ]
  },
  {
   "cell_type": "code",
   "execution_count": 57,
   "id": "f573f286",
   "metadata": {},
   "outputs": [],
   "source": [
    "bb_app = []\n",
    "for i in range(len(norm_counts)):\n",
    "    bb = np.save(r'C:\\Users\\15739\\Desktop\\UNL - all\\Fall 2022\\Manuscript\\Filtered_90\\codes_and_models\\norm_counts_np_model2_s20' + '\\\\' + files_list_md2[i], norm_counts[i])\n",
    "    bb_app.append(bb)"
   ]
  },
  {
   "cell_type": "markdown",
   "id": "5aa2ff16",
   "metadata": {},
   "source": [
    "#### Preds for model 3"
   ]
  },
  {
   "cell_type": "code",
   "execution_count": 58,
   "id": "5c87fedf",
   "metadata": {},
   "outputs": [],
   "source": [
    "model3 = loaded_models[2]"
   ]
  },
  {
   "cell_type": "code",
   "execution_count": 59,
   "id": "8ca4677b",
   "metadata": {
    "scrolled": true
   },
   "outputs": [
    {
     "data": {
      "application/vnd.jupyter.widget-view+json": {
       "model_id": "db57b4a1ea16434d8794eb2416efd992",
       "version_major": 2,
       "version_minor": 0
      },
      "text/plain": [
       "  0%|          | 0/65 [00:00<?, ?it/s]"
      ]
     },
     "metadata": {},
     "output_type": "display_data"
    }
   ],
   "source": [
    "# get the preds and normalized counts\n",
    "\n",
    "all_preds_model3 = []\n",
    "for file in tqdm(test_files):\n",
    "    results = prediction_on_test_data(model3, file)\n",
    "    all_preds_model3.append(results)"
   ]
  },
  {
   "cell_type": "code",
   "execution_count": 60,
   "id": "65488474",
   "metadata": {},
   "outputs": [],
   "source": [
    "preds_list_md3 = []\n",
    "files_list_md3 = []\n",
    "for i in all_preds_model3:\n",
    "    prediction = i[0]\n",
    "    files = i[2]\n",
    "    preds_list_md3.append(prediction)\n",
    "    files_list_md3.append(files)\n"
   ]
  },
  {
   "cell_type": "code",
   "execution_count": 61,
   "id": "e701c5fc",
   "metadata": {},
   "outputs": [],
   "source": [
    "files_list_png = [x.split('.')[0] + '.png' for x in files_list_md3]"
   ]
  },
  {
   "cell_type": "code",
   "execution_count": 62,
   "id": "9268ebde",
   "metadata": {},
   "outputs": [],
   "source": [
    "# d = {'Image name': Image_name, 'Predicted value': pred_data}\n",
    "preds_df  = list(zip(files_list_png, preds_list_md3))"
   ]
  },
  {
   "cell_type": "code",
   "execution_count": 63,
   "id": "9e6422a7",
   "metadata": {},
   "outputs": [],
   "source": [
    "preds_df = pd.DataFrame(preds_df)"
   ]
  },
  {
   "cell_type": "code",
   "execution_count": 64,
   "id": "69adad27",
   "metadata": {},
   "outputs": [],
   "source": [
    "preds_df.columns = ['Image_name', 'Predicted_value']"
   ]
  },
  {
   "cell_type": "code",
   "execution_count": 65,
   "id": "2ae5a61a",
   "metadata": {},
   "outputs": [
    {
     "data": {
      "text/html": [
       "<div>\n",
       "<style scoped>\n",
       "    .dataframe tbody tr th:only-of-type {\n",
       "        vertical-align: middle;\n",
       "    }\n",
       "\n",
       "    .dataframe tbody tr th {\n",
       "        vertical-align: top;\n",
       "    }\n",
       "\n",
       "    .dataframe thead th {\n",
       "        text-align: right;\n",
       "    }\n",
       "</style>\n",
       "<table border=\"1\" class=\"dataframe\">\n",
       "  <thead>\n",
       "    <tr style=\"text-align: right;\">\n",
       "      <th></th>\n",
       "      <th>Image_name</th>\n",
       "      <th>Predicted_value</th>\n",
       "    </tr>\n",
       "  </thead>\n",
       "  <tbody>\n",
       "    <tr>\n",
       "      <th>0</th>\n",
       "      <td>190812_djifc6310s_Aug12_NW_row_32_range_6_rep_...</td>\n",
       "      <td>33.687510</td>\n",
       "    </tr>\n",
       "    <tr>\n",
       "      <th>1</th>\n",
       "      <td>190812_djifc6310s_Aug12_SE_row_21_range_3_rep_...</td>\n",
       "      <td>24.163655</td>\n",
       "    </tr>\n",
       "    <tr>\n",
       "      <th>2</th>\n",
       "      <td>190812_djifc6310s_Aug12_SE_row_32_range_4_rep_...</td>\n",
       "      <td>25.249449</td>\n",
       "    </tr>\n",
       "    <tr>\n",
       "      <th>3</th>\n",
       "      <td>190812_djifc6310s_Aug12_SW_row_11_range_2_rep_...</td>\n",
       "      <td>35.476710</td>\n",
       "    </tr>\n",
       "    <tr>\n",
       "      <th>4</th>\n",
       "      <td>190814_djifc6310s_Aug14_NE_row_33_range_2_rep_...</td>\n",
       "      <td>39.272457</td>\n",
       "    </tr>\n",
       "  </tbody>\n",
       "</table>\n",
       "</div>"
      ],
      "text/plain": [
       "                                          Image_name  Predicted_value\n",
       "0  190812_djifc6310s_Aug12_NW_row_32_range_6_rep_...        33.687510\n",
       "1  190812_djifc6310s_Aug12_SE_row_21_range_3_rep_...        24.163655\n",
       "2  190812_djifc6310s_Aug12_SE_row_32_range_4_rep_...        25.249449\n",
       "3  190812_djifc6310s_Aug12_SW_row_11_range_2_rep_...        35.476710\n",
       "4  190814_djifc6310s_Aug14_NE_row_33_range_2_rep_...        39.272457"
      ]
     },
     "execution_count": 65,
     "metadata": {},
     "output_type": "execute_result"
    }
   ],
   "source": [
    "preds_df.head()"
   ]
  },
  {
   "cell_type": "code",
   "execution_count": 66,
   "id": "7917bdbb",
   "metadata": {},
   "outputs": [],
   "source": [
    "# import the test true counts preciously stored\n",
    "test_true = pd.read_csv(\"true_counts_test_only.csv\")"
   ]
  },
  {
   "cell_type": "code",
   "execution_count": 67,
   "id": "75f94932",
   "metadata": {},
   "outputs": [
    {
     "data": {
      "text/html": [
       "<div>\n",
       "<style scoped>\n",
       "    .dataframe tbody tr th:only-of-type {\n",
       "        vertical-align: middle;\n",
       "    }\n",
       "\n",
       "    .dataframe tbody tr th {\n",
       "        vertical-align: top;\n",
       "    }\n",
       "\n",
       "    .dataframe thead th {\n",
       "        text-align: right;\n",
       "    }\n",
       "</style>\n",
       "<table border=\"1\" class=\"dataframe\">\n",
       "  <thead>\n",
       "    <tr style=\"text-align: right;\">\n",
       "      <th></th>\n",
       "      <th>Image_name</th>\n",
       "      <th>True_count</th>\n",
       "    </tr>\n",
       "  </thead>\n",
       "  <tbody>\n",
       "    <tr>\n",
       "      <th>0</th>\n",
       "      <td>190812_djifc6310s_Aug12_NW_row_32_range_6_rep_...</td>\n",
       "      <td>53</td>\n",
       "    </tr>\n",
       "    <tr>\n",
       "      <th>1</th>\n",
       "      <td>190812_djifc6310s_Aug12_SE_row_21_range_3_rep_...</td>\n",
       "      <td>21</td>\n",
       "    </tr>\n",
       "    <tr>\n",
       "      <th>2</th>\n",
       "      <td>190812_djifc6310s_Aug12_SE_row_32_range_4_rep_...</td>\n",
       "      <td>19</td>\n",
       "    </tr>\n",
       "    <tr>\n",
       "      <th>3</th>\n",
       "      <td>190812_djifc6310s_Aug12_SW_row_11_range_2_rep_...</td>\n",
       "      <td>33</td>\n",
       "    </tr>\n",
       "    <tr>\n",
       "      <th>4</th>\n",
       "      <td>190814_djifc6310s_Aug14_NE_row_33_range_2_rep_...</td>\n",
       "      <td>50</td>\n",
       "    </tr>\n",
       "  </tbody>\n",
       "</table>\n",
       "</div>"
      ],
      "text/plain": [
       "                                          Image_name  True_count\n",
       "0  190812_djifc6310s_Aug12_NW_row_32_range_6_rep_...          53\n",
       "1  190812_djifc6310s_Aug12_SE_row_21_range_3_rep_...          21\n",
       "2  190812_djifc6310s_Aug12_SE_row_32_range_4_rep_...          19\n",
       "3  190812_djifc6310s_Aug12_SW_row_11_range_2_rep_...          33\n",
       "4  190814_djifc6310s_Aug14_NE_row_33_range_2_rep_...          50"
      ]
     },
     "execution_count": 67,
     "metadata": {},
     "output_type": "execute_result"
    }
   ],
   "source": [
    "test_true.head()"
   ]
  },
  {
   "cell_type": "code",
   "execution_count": 68,
   "id": "b5984d59",
   "metadata": {},
   "outputs": [],
   "source": [
    "# merge the true and predicted counts\n",
    "final_data = pd.merge(test_true, preds_df, on = 'Image_name')"
   ]
  },
  {
   "cell_type": "code",
   "execution_count": 69,
   "id": "bc06f8f1",
   "metadata": {},
   "outputs": [
    {
     "data": {
      "text/plain": [
       "(65, 3)"
      ]
     },
     "execution_count": 69,
     "metadata": {},
     "output_type": "execute_result"
    }
   ],
   "source": [
    "final_data.shape"
   ]
  },
  {
   "cell_type": "code",
   "execution_count": 70,
   "id": "aea69c66",
   "metadata": {},
   "outputs": [],
   "source": [
    "mae = np.mean(abs(final_data['True_count'] - final_data['Predicted_value'] ))"
   ]
  },
  {
   "cell_type": "code",
   "execution_count": 71,
   "id": "4130f6c1",
   "metadata": {},
   "outputs": [
    {
     "data": {
      "text/plain": [
       "8.70889736684686"
      ]
     },
     "execution_count": 71,
     "metadata": {},
     "output_type": "execute_result"
    }
   ],
   "source": [
    "mae"
   ]
  },
  {
   "cell_type": "code",
   "execution_count": 72,
   "id": "286863ab",
   "metadata": {},
   "outputs": [],
   "source": [
    "final_data.to_csv('model3_preds_s20.csv', index = False)"
   ]
  },
  {
   "cell_type": "code",
   "execution_count": 73,
   "id": "cab93bcb",
   "metadata": {},
   "outputs": [],
   "source": [
    "# need to also save the normalized counts\n",
    "norm_counts3 = []\n",
    "for i in all_preds_model3:\n",
    "    count = i[1]\n",
    "    norm_counts3.append(count)"
   ]
  },
  {
   "cell_type": "code",
   "execution_count": 74,
   "id": "2375778b",
   "metadata": {},
   "outputs": [],
   "source": [
    "bb_app = []\n",
    "for i in range(len(norm_counts3)):\n",
    "    bb = np.save(r'C:\\Users\\15739\\Desktop\\UNL - all\\Fall 2022\\Manuscript\\Filtered_90\\codes_and_models\\norm_counts_np_model3_s20' + '\\\\' + files_list_md3[i], norm_counts3[i])\n",
    "    bb_app.append(bb)"
   ]
  },
  {
   "cell_type": "markdown",
   "id": "f4fd24de",
   "metadata": {},
   "source": [
    "#### Preds for model 4"
   ]
  },
  {
   "cell_type": "code",
   "execution_count": 75,
   "id": "b14d8979",
   "metadata": {},
   "outputs": [],
   "source": [
    "model4 = loaded_models[3]"
   ]
  },
  {
   "cell_type": "code",
   "execution_count": 76,
   "id": "e6fc30de",
   "metadata": {
    "scrolled": true
   },
   "outputs": [
    {
     "data": {
      "application/vnd.jupyter.widget-view+json": {
       "model_id": "41a7782c85054425b63187c9eae6fd8b",
       "version_major": 2,
       "version_minor": 0
      },
      "text/plain": [
       "  0%|          | 0/65 [00:00<?, ?it/s]"
      ]
     },
     "metadata": {},
     "output_type": "display_data"
    }
   ],
   "source": [
    "# get the preds and normalized counts\n",
    "\n",
    "all_preds_model4 = []\n",
    "for file in tqdm(test_files):\n",
    "    results = prediction_on_test_data(model4, file)\n",
    "    all_preds_model4.append(results)"
   ]
  },
  {
   "cell_type": "code",
   "execution_count": 77,
   "id": "73817990",
   "metadata": {},
   "outputs": [],
   "source": [
    "preds_list_md4 = []\n",
    "files_list_md4 = []\n",
    "for i in all_preds_model4:\n",
    "    prediction = i[0]\n",
    "    files = i[2]\n",
    "    preds_list_md4.append(prediction)\n",
    "    files_list_md4.append(files)\n"
   ]
  },
  {
   "cell_type": "code",
   "execution_count": 78,
   "id": "fd31c0fd",
   "metadata": {},
   "outputs": [],
   "source": [
    "files_list_png = [x.split('.')[0] + '.png' for x in files_list_md4]"
   ]
  },
  {
   "cell_type": "code",
   "execution_count": 79,
   "id": "a78e3827",
   "metadata": {},
   "outputs": [],
   "source": [
    "# d = {'Image name': Image_name, 'Predicted value': pred_data}\n",
    "preds_df  = list(zip(files_list_png, preds_list_md4))"
   ]
  },
  {
   "cell_type": "code",
   "execution_count": 80,
   "id": "e09b24ee",
   "metadata": {},
   "outputs": [],
   "source": [
    "preds_df = pd.DataFrame(preds_df)"
   ]
  },
  {
   "cell_type": "code",
   "execution_count": 81,
   "id": "9cb767b1",
   "metadata": {},
   "outputs": [],
   "source": [
    "preds_df.columns = ['Image_name', 'Predicted_value']"
   ]
  },
  {
   "cell_type": "code",
   "execution_count": 82,
   "id": "a8346471",
   "metadata": {},
   "outputs": [
    {
     "data": {
      "text/html": [
       "<div>\n",
       "<style scoped>\n",
       "    .dataframe tbody tr th:only-of-type {\n",
       "        vertical-align: middle;\n",
       "    }\n",
       "\n",
       "    .dataframe tbody tr th {\n",
       "        vertical-align: top;\n",
       "    }\n",
       "\n",
       "    .dataframe thead th {\n",
       "        text-align: right;\n",
       "    }\n",
       "</style>\n",
       "<table border=\"1\" class=\"dataframe\">\n",
       "  <thead>\n",
       "    <tr style=\"text-align: right;\">\n",
       "      <th></th>\n",
       "      <th>Image_name</th>\n",
       "      <th>Predicted_value</th>\n",
       "    </tr>\n",
       "  </thead>\n",
       "  <tbody>\n",
       "    <tr>\n",
       "      <th>0</th>\n",
       "      <td>190812_djifc6310s_Aug12_NW_row_32_range_6_rep_...</td>\n",
       "      <td>33.587952</td>\n",
       "    </tr>\n",
       "    <tr>\n",
       "      <th>1</th>\n",
       "      <td>190812_djifc6310s_Aug12_SE_row_21_range_3_rep_...</td>\n",
       "      <td>23.933685</td>\n",
       "    </tr>\n",
       "    <tr>\n",
       "      <th>2</th>\n",
       "      <td>190812_djifc6310s_Aug12_SE_row_32_range_4_rep_...</td>\n",
       "      <td>24.741406</td>\n",
       "    </tr>\n",
       "    <tr>\n",
       "      <th>3</th>\n",
       "      <td>190812_djifc6310s_Aug12_SW_row_11_range_2_rep_...</td>\n",
       "      <td>35.860124</td>\n",
       "    </tr>\n",
       "    <tr>\n",
       "      <th>4</th>\n",
       "      <td>190814_djifc6310s_Aug14_NE_row_33_range_2_rep_...</td>\n",
       "      <td>40.224085</td>\n",
       "    </tr>\n",
       "  </tbody>\n",
       "</table>\n",
       "</div>"
      ],
      "text/plain": [
       "                                          Image_name  Predicted_value\n",
       "0  190812_djifc6310s_Aug12_NW_row_32_range_6_rep_...        33.587952\n",
       "1  190812_djifc6310s_Aug12_SE_row_21_range_3_rep_...        23.933685\n",
       "2  190812_djifc6310s_Aug12_SE_row_32_range_4_rep_...        24.741406\n",
       "3  190812_djifc6310s_Aug12_SW_row_11_range_2_rep_...        35.860124\n",
       "4  190814_djifc6310s_Aug14_NE_row_33_range_2_rep_...        40.224085"
      ]
     },
     "execution_count": 82,
     "metadata": {},
     "output_type": "execute_result"
    }
   ],
   "source": [
    "preds_df.head()"
   ]
  },
  {
   "cell_type": "code",
   "execution_count": 83,
   "id": "36dd338a",
   "metadata": {},
   "outputs": [],
   "source": [
    "# import the test true counts preciously stored\n",
    "test_true = pd.read_csv(\"true_counts_test_only.csv\")"
   ]
  },
  {
   "cell_type": "code",
   "execution_count": 84,
   "id": "50a37f6e",
   "metadata": {},
   "outputs": [
    {
     "data": {
      "text/html": [
       "<div>\n",
       "<style scoped>\n",
       "    .dataframe tbody tr th:only-of-type {\n",
       "        vertical-align: middle;\n",
       "    }\n",
       "\n",
       "    .dataframe tbody tr th {\n",
       "        vertical-align: top;\n",
       "    }\n",
       "\n",
       "    .dataframe thead th {\n",
       "        text-align: right;\n",
       "    }\n",
       "</style>\n",
       "<table border=\"1\" class=\"dataframe\">\n",
       "  <thead>\n",
       "    <tr style=\"text-align: right;\">\n",
       "      <th></th>\n",
       "      <th>Image_name</th>\n",
       "      <th>True_count</th>\n",
       "    </tr>\n",
       "  </thead>\n",
       "  <tbody>\n",
       "    <tr>\n",
       "      <th>0</th>\n",
       "      <td>190812_djifc6310s_Aug12_NW_row_32_range_6_rep_...</td>\n",
       "      <td>53</td>\n",
       "    </tr>\n",
       "    <tr>\n",
       "      <th>1</th>\n",
       "      <td>190812_djifc6310s_Aug12_SE_row_21_range_3_rep_...</td>\n",
       "      <td>21</td>\n",
       "    </tr>\n",
       "    <tr>\n",
       "      <th>2</th>\n",
       "      <td>190812_djifc6310s_Aug12_SE_row_32_range_4_rep_...</td>\n",
       "      <td>19</td>\n",
       "    </tr>\n",
       "    <tr>\n",
       "      <th>3</th>\n",
       "      <td>190812_djifc6310s_Aug12_SW_row_11_range_2_rep_...</td>\n",
       "      <td>33</td>\n",
       "    </tr>\n",
       "    <tr>\n",
       "      <th>4</th>\n",
       "      <td>190814_djifc6310s_Aug14_NE_row_33_range_2_rep_...</td>\n",
       "      <td>50</td>\n",
       "    </tr>\n",
       "  </tbody>\n",
       "</table>\n",
       "</div>"
      ],
      "text/plain": [
       "                                          Image_name  True_count\n",
       "0  190812_djifc6310s_Aug12_NW_row_32_range_6_rep_...          53\n",
       "1  190812_djifc6310s_Aug12_SE_row_21_range_3_rep_...          21\n",
       "2  190812_djifc6310s_Aug12_SE_row_32_range_4_rep_...          19\n",
       "3  190812_djifc6310s_Aug12_SW_row_11_range_2_rep_...          33\n",
       "4  190814_djifc6310s_Aug14_NE_row_33_range_2_rep_...          50"
      ]
     },
     "execution_count": 84,
     "metadata": {},
     "output_type": "execute_result"
    }
   ],
   "source": [
    "test_true.head()"
   ]
  },
  {
   "cell_type": "code",
   "execution_count": 85,
   "id": "a3c08ff0",
   "metadata": {},
   "outputs": [],
   "source": [
    "# merge the true and predicted counts\n",
    "final_data = pd.merge(test_true, preds_df, on = 'Image_name')"
   ]
  },
  {
   "cell_type": "code",
   "execution_count": 86,
   "id": "f58d4bd7",
   "metadata": {},
   "outputs": [
    {
     "data": {
      "text/plain": [
       "(65, 3)"
      ]
     },
     "execution_count": 86,
     "metadata": {},
     "output_type": "execute_result"
    }
   ],
   "source": [
    "final_data.shape"
   ]
  },
  {
   "cell_type": "code",
   "execution_count": 87,
   "id": "02cc0309",
   "metadata": {},
   "outputs": [],
   "source": [
    "mae = np.mean(abs(final_data['True_count'] - final_data['Predicted_value'] ))"
   ]
  },
  {
   "cell_type": "code",
   "execution_count": 88,
   "id": "cc34c84a",
   "metadata": {
    "scrolled": true
   },
   "outputs": [
    {
     "data": {
      "text/plain": [
       "8.812369607453055"
      ]
     },
     "execution_count": 88,
     "metadata": {},
     "output_type": "execute_result"
    }
   ],
   "source": [
    "mae"
   ]
  },
  {
   "cell_type": "code",
   "execution_count": 89,
   "id": "a518dd0b",
   "metadata": {},
   "outputs": [],
   "source": [
    "final_data.to_csv('model4_preds_s20.csv', index = False)"
   ]
  },
  {
   "cell_type": "code",
   "execution_count": 90,
   "id": "4f2a7be4",
   "metadata": {},
   "outputs": [],
   "source": [
    "# need to also save the normalized counts\n",
    "norm_counts4 = []\n",
    "for i in all_preds_model4:\n",
    "    count = i[1]\n",
    "    norm_counts4.append(count)"
   ]
  },
  {
   "cell_type": "code",
   "execution_count": 91,
   "id": "11f271b4",
   "metadata": {},
   "outputs": [],
   "source": [
    "bb_app = []\n",
    "for i in range(len(norm_counts4)):\n",
    "    bb = np.save(r'C:\\Users\\15739\\Desktop\\UNL - all\\Fall 2022\\Manuscript\\Filtered_90\\codes_and_models\\norm_counts_np_model4_s20' + '\\\\' + files_list_md4[i], norm_counts4[i])\n",
    "    bb_app.append(bb)"
   ]
  },
  {
   "cell_type": "markdown",
   "id": "c4c5970e",
   "metadata": {},
   "source": [
    "#### Model 5 Preds"
   ]
  },
  {
   "cell_type": "code",
   "execution_count": 92,
   "id": "890e513f",
   "metadata": {},
   "outputs": [],
   "source": [
    "model5 = loaded_models[4]"
   ]
  },
  {
   "cell_type": "code",
   "execution_count": 93,
   "id": "500a780f",
   "metadata": {
    "scrolled": true
   },
   "outputs": [
    {
     "data": {
      "application/vnd.jupyter.widget-view+json": {
       "model_id": "fbc297d90eee4a9c85b9cf6ffee7518e",
       "version_major": 2,
       "version_minor": 0
      },
      "text/plain": [
       "  0%|          | 0/65 [00:00<?, ?it/s]"
      ]
     },
     "metadata": {},
     "output_type": "display_data"
    }
   ],
   "source": [
    "# get the preds and normalized counts\n",
    "\n",
    "all_preds_model5 = []\n",
    "for file in tqdm(test_files):\n",
    "    results = prediction_on_test_data(model5, file)\n",
    "    all_preds_model5.append(results)"
   ]
  },
  {
   "cell_type": "code",
   "execution_count": 94,
   "id": "e1b152dd",
   "metadata": {},
   "outputs": [],
   "source": [
    "preds_list_md5 = []\n",
    "files_list_md5 = []\n",
    "for i in all_preds_model5:\n",
    "    prediction = i[0]\n",
    "    files = i[2]\n",
    "    preds_list_md5.append(prediction)\n",
    "    files_list_md5.append(files)\n"
   ]
  },
  {
   "cell_type": "code",
   "execution_count": 95,
   "id": "1cc89c50",
   "metadata": {},
   "outputs": [],
   "source": [
    "files_list_png = [x.split('.')[0] + '.png' for x in files_list_md5]"
   ]
  },
  {
   "cell_type": "code",
   "execution_count": 96,
   "id": "0c884f68",
   "metadata": {},
   "outputs": [],
   "source": [
    "# d = {'Image name': Image_name, 'Predicted value': pred_data}\n",
    "preds_df  = list(zip(files_list_png, preds_list_md5))"
   ]
  },
  {
   "cell_type": "code",
   "execution_count": 97,
   "id": "ff748cca",
   "metadata": {},
   "outputs": [],
   "source": [
    "preds_df = pd.DataFrame(preds_df)"
   ]
  },
  {
   "cell_type": "code",
   "execution_count": 98,
   "id": "84d27c2a",
   "metadata": {},
   "outputs": [],
   "source": [
    "preds_df.columns = ['Image_name', 'Predicted_value']"
   ]
  },
  {
   "cell_type": "code",
   "execution_count": 99,
   "id": "380306eb",
   "metadata": {},
   "outputs": [
    {
     "data": {
      "text/html": [
       "<div>\n",
       "<style scoped>\n",
       "    .dataframe tbody tr th:only-of-type {\n",
       "        vertical-align: middle;\n",
       "    }\n",
       "\n",
       "    .dataframe tbody tr th {\n",
       "        vertical-align: top;\n",
       "    }\n",
       "\n",
       "    .dataframe thead th {\n",
       "        text-align: right;\n",
       "    }\n",
       "</style>\n",
       "<table border=\"1\" class=\"dataframe\">\n",
       "  <thead>\n",
       "    <tr style=\"text-align: right;\">\n",
       "      <th></th>\n",
       "      <th>Image_name</th>\n",
       "      <th>Predicted_value</th>\n",
       "    </tr>\n",
       "  </thead>\n",
       "  <tbody>\n",
       "    <tr>\n",
       "      <th>0</th>\n",
       "      <td>190812_djifc6310s_Aug12_NW_row_32_range_6_rep_...</td>\n",
       "      <td>32.650041</td>\n",
       "    </tr>\n",
       "    <tr>\n",
       "      <th>1</th>\n",
       "      <td>190812_djifc6310s_Aug12_SE_row_21_range_3_rep_...</td>\n",
       "      <td>23.933525</td>\n",
       "    </tr>\n",
       "    <tr>\n",
       "      <th>2</th>\n",
       "      <td>190812_djifc6310s_Aug12_SE_row_32_range_4_rep_...</td>\n",
       "      <td>25.064810</td>\n",
       "    </tr>\n",
       "    <tr>\n",
       "      <th>3</th>\n",
       "      <td>190812_djifc6310s_Aug12_SW_row_11_range_2_rep_...</td>\n",
       "      <td>34.429972</td>\n",
       "    </tr>\n",
       "    <tr>\n",
       "      <th>4</th>\n",
       "      <td>190814_djifc6310s_Aug14_NE_row_33_range_2_rep_...</td>\n",
       "      <td>38.769783</td>\n",
       "    </tr>\n",
       "  </tbody>\n",
       "</table>\n",
       "</div>"
      ],
      "text/plain": [
       "                                          Image_name  Predicted_value\n",
       "0  190812_djifc6310s_Aug12_NW_row_32_range_6_rep_...        32.650041\n",
       "1  190812_djifc6310s_Aug12_SE_row_21_range_3_rep_...        23.933525\n",
       "2  190812_djifc6310s_Aug12_SE_row_32_range_4_rep_...        25.064810\n",
       "3  190812_djifc6310s_Aug12_SW_row_11_range_2_rep_...        34.429972\n",
       "4  190814_djifc6310s_Aug14_NE_row_33_range_2_rep_...        38.769783"
      ]
     },
     "execution_count": 99,
     "metadata": {},
     "output_type": "execute_result"
    }
   ],
   "source": [
    "preds_df.head()"
   ]
  },
  {
   "cell_type": "code",
   "execution_count": 100,
   "id": "d201d55f",
   "metadata": {},
   "outputs": [],
   "source": [
    "# import the test true counts preciously stored\n",
    "test_true = pd.read_csv(\"true_counts_test_only.csv\")"
   ]
  },
  {
   "cell_type": "code",
   "execution_count": 101,
   "id": "f2914a40",
   "metadata": {},
   "outputs": [
    {
     "data": {
      "text/html": [
       "<div>\n",
       "<style scoped>\n",
       "    .dataframe tbody tr th:only-of-type {\n",
       "        vertical-align: middle;\n",
       "    }\n",
       "\n",
       "    .dataframe tbody tr th {\n",
       "        vertical-align: top;\n",
       "    }\n",
       "\n",
       "    .dataframe thead th {\n",
       "        text-align: right;\n",
       "    }\n",
       "</style>\n",
       "<table border=\"1\" class=\"dataframe\">\n",
       "  <thead>\n",
       "    <tr style=\"text-align: right;\">\n",
       "      <th></th>\n",
       "      <th>Image_name</th>\n",
       "      <th>True_count</th>\n",
       "    </tr>\n",
       "  </thead>\n",
       "  <tbody>\n",
       "    <tr>\n",
       "      <th>0</th>\n",
       "      <td>190812_djifc6310s_Aug12_NW_row_32_range_6_rep_...</td>\n",
       "      <td>53</td>\n",
       "    </tr>\n",
       "    <tr>\n",
       "      <th>1</th>\n",
       "      <td>190812_djifc6310s_Aug12_SE_row_21_range_3_rep_...</td>\n",
       "      <td>21</td>\n",
       "    </tr>\n",
       "    <tr>\n",
       "      <th>2</th>\n",
       "      <td>190812_djifc6310s_Aug12_SE_row_32_range_4_rep_...</td>\n",
       "      <td>19</td>\n",
       "    </tr>\n",
       "    <tr>\n",
       "      <th>3</th>\n",
       "      <td>190812_djifc6310s_Aug12_SW_row_11_range_2_rep_...</td>\n",
       "      <td>33</td>\n",
       "    </tr>\n",
       "    <tr>\n",
       "      <th>4</th>\n",
       "      <td>190814_djifc6310s_Aug14_NE_row_33_range_2_rep_...</td>\n",
       "      <td>50</td>\n",
       "    </tr>\n",
       "  </tbody>\n",
       "</table>\n",
       "</div>"
      ],
      "text/plain": [
       "                                          Image_name  True_count\n",
       "0  190812_djifc6310s_Aug12_NW_row_32_range_6_rep_...          53\n",
       "1  190812_djifc6310s_Aug12_SE_row_21_range_3_rep_...          21\n",
       "2  190812_djifc6310s_Aug12_SE_row_32_range_4_rep_...          19\n",
       "3  190812_djifc6310s_Aug12_SW_row_11_range_2_rep_...          33\n",
       "4  190814_djifc6310s_Aug14_NE_row_33_range_2_rep_...          50"
      ]
     },
     "execution_count": 101,
     "metadata": {},
     "output_type": "execute_result"
    }
   ],
   "source": [
    "test_true.head()"
   ]
  },
  {
   "cell_type": "code",
   "execution_count": 102,
   "id": "cecc6278",
   "metadata": {},
   "outputs": [],
   "source": [
    "# merge the true and predicted counts\n",
    "final_data = pd.merge(test_true, preds_df, on = 'Image_name')"
   ]
  },
  {
   "cell_type": "code",
   "execution_count": 103,
   "id": "eef843ca",
   "metadata": {},
   "outputs": [
    {
     "data": {
      "text/plain": [
       "(65, 3)"
      ]
     },
     "execution_count": 103,
     "metadata": {},
     "output_type": "execute_result"
    }
   ],
   "source": [
    "final_data.shape"
   ]
  },
  {
   "cell_type": "code",
   "execution_count": 104,
   "id": "2dfea926",
   "metadata": {},
   "outputs": [],
   "source": [
    "mae = np.mean(abs(final_data['True_count'] - final_data['Predicted_value'] ))"
   ]
  },
  {
   "cell_type": "code",
   "execution_count": 105,
   "id": "18e17e94",
   "metadata": {
    "scrolled": true
   },
   "outputs": [
    {
     "data": {
      "text/plain": [
       "8.5217717110005"
      ]
     },
     "execution_count": 105,
     "metadata": {},
     "output_type": "execute_result"
    }
   ],
   "source": [
    "mae"
   ]
  },
  {
   "cell_type": "code",
   "execution_count": 106,
   "id": "3a8c1369",
   "metadata": {},
   "outputs": [],
   "source": [
    "final_data.to_csv('model5_preds_s20.csv', index = False)"
   ]
  },
  {
   "cell_type": "code",
   "execution_count": 107,
   "id": "768bdc68",
   "metadata": {},
   "outputs": [],
   "source": [
    "# need to also save the normalized counts\n",
    "norm_counts5 = []\n",
    "for i in all_preds_model5:\n",
    "    count = i[1]\n",
    "    norm_counts5.append(count)"
   ]
  },
  {
   "cell_type": "code",
   "execution_count": 108,
   "id": "a245a3d8",
   "metadata": {},
   "outputs": [],
   "source": [
    "bb_app = []\n",
    "for i in range(len(norm_counts5)):\n",
    "    bb = np.save(r'C:\\Users\\15739\\Desktop\\UNL - all\\Fall 2022\\Manuscript\\Filtered_90\\codes_and_models\\norm_counts_np_model5_s20' + '\\\\' + files_list_md5[i], norm_counts5[i])\n",
    "    bb_app.append(bb)"
   ]
  }
 ],
 "metadata": {
  "kernelspec": {
   "display_name": "gayarad",
   "language": "python",
   "name": "gayarad"
  },
  "language_info": {
   "codemirror_mode": {
    "name": "ipython",
    "version": 3
   },
   "file_extension": ".py",
   "mimetype": "text/x-python",
   "name": "python",
   "nbconvert_exporter": "python",
   "pygments_lexer": "ipython3",
   "version": "3.8.8"
  }
 },
 "nbformat": 4,
 "nbformat_minor": 5
}
