{
 "cells": [
  {
   "cell_type": "code",
   "execution_count": 3,
   "id": "e323f1ac",
   "metadata": {},
   "outputs": [],
   "source": [
    "# import the necessary libraries\n",
    "import pandas as pd\n",
    "import numpy as np\n",
    "import matplotlib.pyplot as plt\n",
    "import os\n",
    "import random\n",
    "import shutil\n",
    "# import cv2\n",
    "from scipy import ndimage\n",
    "# from skimage.transform import resize\n",
    "from joblib import Parallel, delayed\n",
    "import tensorflow as tf\n",
    "from sklearn.model_selection import KFold\n",
    "from tqdm.auto import tqdm"
   ]
  },
  {
   "cell_type": "code",
   "execution_count": 4,
   "id": "ab5fedc4",
   "metadata": {},
   "outputs": [],
   "source": [
    "# get the names of the models in the model folder\n",
    "model_names = ['model_1.h5', 'model_2.h5']"
   ]
  },
  {
   "cell_type": "code",
   "execution_count": 5,
   "id": "4ff8bb79-1520-4eab-bb60-a6dfe686346e",
   "metadata": {},
   "outputs": [
    {
     "data": {
      "text/plain": [
       "2"
      ]
     },
     "execution_count": 5,
     "metadata": {},
     "output_type": "execute_result"
    }
   ],
   "source": [
    "# how many models?\n",
    "len(model_names)"
   ]
  },
  {
   "cell_type": "code",
   "execution_count": 6,
   "id": "280edb0b-b216-453d-badf-f3038a76f706",
   "metadata": {},
   "outputs": [
    {
     "data": {
      "text/plain": [
       "'model_1.h5'"
      ]
     },
     "execution_count": 6,
     "metadata": {},
     "output_type": "execute_result"
    }
   ],
   "source": [
    "model_names[0]"
   ]
  },
  {
   "cell_type": "code",
   "execution_count": 7,
   "id": "d7483b3c",
   "metadata": {},
   "outputs": [],
   "source": [
    "loaded_models = []\n",
    "for model in model_names:\n",
    "    model_ld = tf.keras.models.load_model(r\"C:\\Users\\15739\\Desktop\\UNL - all\\Fall 2022\\Manuscript\\Filtered_90\\codes_and_models\" + \"\\\\\" + model)\n",
    "    loaded_models.append(model_ld)"
   ]
  },
  {
   "cell_type": "code",
   "execution_count": 8,
   "id": "5625d216",
   "metadata": {},
   "outputs": [
    {
     "data": {
      "text/plain": [
       "2"
      ]
     },
     "execution_count": 8,
     "metadata": {},
     "output_type": "execute_result"
    }
   ],
   "source": [
    "len(loaded_models)"
   ]
  },
  {
   "cell_type": "code",
   "execution_count": 9,
   "id": "582f0289",
   "metadata": {},
   "outputs": [],
   "source": [
    "# names of the test files\n",
    "numpy_folder = r\"C:\\Users\\15739\\Desktop\\UNL - all\\Fall 2022\\Manuscript\\Filtered_90\\np_test_filtered90\"\n",
    "test_files = os.listdir(numpy_folder)"
   ]
  },
  {
   "cell_type": "code",
   "execution_count": 10,
   "id": "ce906cd5-31c7-4739-b586-3fb40285d293",
   "metadata": {},
   "outputs": [
    {
     "data": {
      "text/plain": [
       "65"
      ]
     },
     "execution_count": 10,
     "metadata": {},
     "output_type": "execute_result"
    }
   ],
   "source": [
    "# how many test files\n",
    "len(test_files)"
   ]
  },
  {
   "cell_type": "code",
   "execution_count": 11,
   "id": "65be27de",
   "metadata": {},
   "outputs": [],
   "source": [
    "# Function to get the predictions given model and image\n",
    "\n",
    "numpy_folder = r\"C:\\Users\\15739\\Desktop\\UNL - all\\Fall 2022\\Manuscript\\Filtered_90\\np_test_filtered90\"\n",
    "v_stack_folder = r\"C:\\Users\\15739\\Desktop\\UNL - all\\Fall 2022\\Manuscript\\Filtered_90\\test_np_stacks_hcc\"\n",
    "\n",
    "def prediction_on_test_data(model, selected_file, stride = 8, kernel_size = 32):\n",
    "#     load the cnn model\n",
    "    \n",
    "# load the image data file\n",
    "    load_image = np.load(numpy_folder + \"\\\\\"+ selected_file)\n",
    "    \n",
    "    # get the image height\n",
    "    img_height = load_image.shape[0]\n",
    "    # get the image weight\n",
    "    img_width = load_image.shape[1]\n",
    "\n",
    "    all_test_sub_windows = np.load(v_stack_folder + \"\\\\\"+ selected_file)\n",
    "\n",
    "    # now, to get the predictions, pass the sub windows\n",
    "    with tf.device('/CPU:0'):\n",
    "        test_image_prediction = model.predict(all_test_sub_windows, batch_size = 100)\n",
    "    \n",
    "    # density map\n",
    "    Density_map = np.zeros((img_height, img_width))\n",
    "\n",
    "    # counts map\n",
    "    counts_map = np.zeros((img_height, img_width))\n",
    "    \n",
    "    # now, for every window, we will keep adding the values together and also add the counts\n",
    "    counter = 0\n",
    "#     need a counter to move into each predicted value in the pred values list\n",
    "    for ii in range(0, img_height, stride):\n",
    "        for jj in range(0, img_width, stride):\n",
    "#         operations for density map\n",
    "#             get the window of interest\n",
    "            new_window = Density_map[ii:ii + kernel_size,jj:jj+kernel_size]\n",
    "#     fill each with the value c_k\n",
    "            counts_window = np.full((new_window.shape[0], new_window.shape[1]), test_image_prediction[counter])\n",
    "#     get the shapes of this new window\n",
    "            cw_height = counts_window.shape[0]\n",
    "            cw_width = counts_window.shape[1]\n",
    "#         Do c_k/r_2\n",
    "            counts_window_new = counts_window/(cw_height*cw_width)\n",
    "#     This is the value in the window now\n",
    "            value_window = counts_window_new\n",
    "#     place the values in the corrsponding area of the density map\n",
    "            Density_map[ii:ii + kernel_size,jj:jj+kernel_size] = new_window + value_window\n",
    "\n",
    "#         Let's now focus on capturing the counts of the windows\n",
    "            new_window_c = counts_map[ii:ii + kernel_size,jj:jj+kernel_size]\n",
    "#     get the counts area\n",
    "            count = np.ones((new_window_c.shape[0], new_window_c.shape[1]))\n",
    "#     keep adding the counts to reflect the addition of densities\n",
    "            counts_map[ii:ii + kernel_size,jj:jj+kernel_size] = new_window_c + count\n",
    "#     increase the counter\n",
    "            counter = counter + 1\n",
    "            \n",
    "#         get the normalized count\n",
    "    normalized_counts = np.divide(Density_map, counts_map)\n",
    "    \n",
    "#     entire count on the test set\n",
    "    pred_on_test = np.sum(normalized_counts)\n",
    "    \n",
    "#     return the predicted value\n",
    "    return(pred_on_test, normalized_counts, selected_file)\n"
   ]
  },
  {
   "cell_type": "code",
   "execution_count": 19,
   "id": "edca452b",
   "metadata": {
    "scrolled": true
   },
   "outputs": [
    {
     "data": {
      "application/vnd.jupyter.widget-view+json": {
       "model_id": "2a93fb891f224f85b11b5667336b720f",
       "version_major": 2,
       "version_minor": 0
      },
      "text/plain": [
       "  0%|          | 0/2 [00:00<?, ?it/s]"
      ]
     },
     "metadata": {},
     "output_type": "display_data"
    }
   ],
   "source": [
    "# get the preds and normalized counts\n",
    "\n",
    "all_preds_loop = []\n",
    "for mdl in tqdm(loaded_models):\n",
    "    preds_sub = []\n",
    "    for file in test_files:\n",
    "        results = prediction_on_test_data(mdl, file)\n",
    "        preds_sub.append(results)\n",
    "    all_preds_loop.append(preds_sub)"
   ]
  },
  {
   "cell_type": "code",
   "execution_count": 18,
   "id": "e329358e",
   "metadata": {},
   "outputs": [
    {
     "data": {
      "text/plain": [
       "65"
      ]
     },
     "execution_count": 18,
     "metadata": {},
     "output_type": "execute_result"
    }
   ],
   "source": [
    "len(preds_sub)"
   ]
  },
  {
   "cell_type": "code",
   "execution_count": 146,
   "id": "f38d0af1",
   "metadata": {},
   "outputs": [],
   "source": [
    "# Extract the preds, image names, and density maps\n",
    "all_dense_maps = []\n",
    "all_preds = []\n",
    "all_im_names = []\n",
    "for i in all_preds_loop:\n",
    "    dense_maps = []\n",
    "    preds = []\n",
    "    names = []\n",
    "    for j in i:\n",
    "        pred = j[0]\n",
    "        preds.append(pred)\n",
    "        name = j[2]\n",
    "        names.append(name)\n",
    "        dense_map = j[1]\n",
    "        dense_maps.append(dense_map)\n",
    "    all_dense_maps.append(dense_maps)\n",
    "    all_preds.append(preds)\n",
    "    all_im_names.append(names)\n",
    "    \n"
   ]
  },
  {
   "cell_type": "code",
   "execution_count": 147,
   "id": "f0ba1525",
   "metadata": {},
   "outputs": [],
   "source": [
    "all_dfs = []\n",
    "for i in range(0, len(all_dense_maps)):\n",
    "    list_1 = all_im_names[i]\n",
    "    list_2 = all_preds[i]\n",
    "    df = pd.DataFrame(list(zip(list_1, list_2)), columns = [\"Image_name\", \"Predicted_count\"])\n",
    "#     remove the image name\n",
    "    all_dfs.append(df)"
   ]
  },
  {
   "cell_type": "code",
   "execution_count": 148,
   "id": "98b8800d",
   "metadata": {},
   "outputs": [
    {
     "data": {
      "text/plain": [
       "[                                           Image_name  Predicted_count\n",
       " 0   190812_djifc6310s_Aug12_NW_row_32_range_6_rep_...        31.716618\n",
       " 1   190812_djifc6310s_Aug12_SE_row_21_range_3_rep_...        23.549171\n",
       " 2   190812_djifc6310s_Aug12_SE_row_32_range_4_rep_...        25.550615\n",
       " 3   190812_djifc6310s_Aug12_SW_row_11_range_2_rep_...        33.694989\n",
       " 4   190814_djifc6310s_Aug14_NE_row_33_range_2_rep_...        37.640023\n",
       " ..                                                ...              ...\n",
       " 60  190905_djifc6310s_Sept5_SE_row_12_range_6_rep_...        30.788614\n",
       " 61  190905_djifc6310s_Sept5_SW_row_11_range_2_rep_...        30.021164\n",
       " 62  190905_djifc6310s_Sept5_SW_row_31_range_2_rep_...        51.282161\n",
       " 63  190905_djifc6310s_Sept5_SW_row_32_range_5_rep_...        37.025334\n",
       " 64  190905_djifc6310s_Sept5_SW_row_34_range_4_rep_...        25.251861\n",
       " \n",
       " [65 rows x 2 columns],\n",
       "                                            Image_name  Predicted_count\n",
       " 0   190812_djifc6310s_Aug12_NW_row_32_range_6_rep_...        31.538964\n",
       " 1   190812_djifc6310s_Aug12_SE_row_21_range_3_rep_...        23.316486\n",
       " 2   190812_djifc6310s_Aug12_SE_row_32_range_4_rep_...        26.272617\n",
       " 3   190812_djifc6310s_Aug12_SW_row_11_range_2_rep_...        33.930508\n",
       " 4   190814_djifc6310s_Aug14_NE_row_33_range_2_rep_...        37.797137\n",
       " ..                                                ...              ...\n",
       " 60  190905_djifc6310s_Sept5_SE_row_12_range_6_rep_...        30.866648\n",
       " 61  190905_djifc6310s_Sept5_SW_row_11_range_2_rep_...        30.401564\n",
       " 62  190905_djifc6310s_Sept5_SW_row_31_range_2_rep_...        52.057098\n",
       " 63  190905_djifc6310s_Sept5_SW_row_32_range_5_rep_...        37.792152\n",
       " 64  190905_djifc6310s_Sept5_SW_row_34_range_4_rep_...        25.174351\n",
       " \n",
       " [65 rows x 2 columns]]"
      ]
     },
     "execution_count": 148,
     "metadata": {},
     "output_type": "execute_result"
    }
   ],
   "source": [
    "all_dfs"
   ]
  },
  {
   "cell_type": "code",
   "execution_count": 149,
   "id": "51f8ea87-3f78-46d8-9a64-eee2602e17f6",
   "metadata": {},
   "outputs": [],
   "source": [
    "try_df = pd.concat(all_dfs, axis = 1)"
   ]
  },
  {
   "cell_type": "code",
   "execution_count": 150,
   "id": "aac10954",
   "metadata": {},
   "outputs": [],
   "source": [
    "try_df_no_im_name = try_df.drop(columns = \"Image_name\")"
   ]
  },
  {
   "cell_type": "code",
   "execution_count": 152,
   "id": "89e98637",
   "metadata": {},
   "outputs": [],
   "source": [
    "try_df_im_name = try_df[[\"Image_name\"]]"
   ]
  },
  {
   "cell_type": "code",
   "execution_count": 153,
   "id": "9fb6666e",
   "metadata": {},
   "outputs": [],
   "source": [
    "try_df_im_name = pd.DataFrame(try_df_im_name.iloc[:,0])"
   ]
  },
  {
   "cell_type": "code",
   "execution_count": 154,
   "id": "25f518dc",
   "metadata": {},
   "outputs": [],
   "source": [
    "all_preds = pd.concat((try_df_im_name, try_df_no_im_name),axis = 1)"
   ]
  },
  {
   "cell_type": "code",
   "execution_count": 155,
   "id": "d765ea85",
   "metadata": {
    "scrolled": true
   },
   "outputs": [
    {
     "data": {
      "text/html": [
       "<div>\n",
       "<style scoped>\n",
       "    .dataframe tbody tr th:only-of-type {\n",
       "        vertical-align: middle;\n",
       "    }\n",
       "\n",
       "    .dataframe tbody tr th {\n",
       "        vertical-align: top;\n",
       "    }\n",
       "\n",
       "    .dataframe thead th {\n",
       "        text-align: right;\n",
       "    }\n",
       "</style>\n",
       "<table border=\"1\" class=\"dataframe\">\n",
       "  <thead>\n",
       "    <tr style=\"text-align: right;\">\n",
       "      <th></th>\n",
       "      <th>Image_name</th>\n",
       "      <th>Predicted_count</th>\n",
       "      <th>Predicted_count</th>\n",
       "    </tr>\n",
       "  </thead>\n",
       "  <tbody>\n",
       "    <tr>\n",
       "      <th>0</th>\n",
       "      <td>190812_djifc6310s_Aug12_NW_row_32_range_6_rep_...</td>\n",
       "      <td>31.716618</td>\n",
       "      <td>31.538964</td>\n",
       "    </tr>\n",
       "    <tr>\n",
       "      <th>1</th>\n",
       "      <td>190812_djifc6310s_Aug12_SE_row_21_range_3_rep_...</td>\n",
       "      <td>23.549171</td>\n",
       "      <td>23.316486</td>\n",
       "    </tr>\n",
       "    <tr>\n",
       "      <th>2</th>\n",
       "      <td>190812_djifc6310s_Aug12_SE_row_32_range_4_rep_...</td>\n",
       "      <td>25.550615</td>\n",
       "      <td>26.272617</td>\n",
       "    </tr>\n",
       "    <tr>\n",
       "      <th>3</th>\n",
       "      <td>190812_djifc6310s_Aug12_SW_row_11_range_2_rep_...</td>\n",
       "      <td>33.694989</td>\n",
       "      <td>33.930508</td>\n",
       "    </tr>\n",
       "    <tr>\n",
       "      <th>4</th>\n",
       "      <td>190814_djifc6310s_Aug14_NE_row_33_range_2_rep_...</td>\n",
       "      <td>37.640023</td>\n",
       "      <td>37.797137</td>\n",
       "    </tr>\n",
       "  </tbody>\n",
       "</table>\n",
       "</div>"
      ],
      "text/plain": [
       "                                          Image_name  Predicted_count  \\\n",
       "0  190812_djifc6310s_Aug12_NW_row_32_range_6_rep_...        31.716618   \n",
       "1  190812_djifc6310s_Aug12_SE_row_21_range_3_rep_...        23.549171   \n",
       "2  190812_djifc6310s_Aug12_SE_row_32_range_4_rep_...        25.550615   \n",
       "3  190812_djifc6310s_Aug12_SW_row_11_range_2_rep_...        33.694989   \n",
       "4  190814_djifc6310s_Aug14_NE_row_33_range_2_rep_...        37.640023   \n",
       "\n",
       "   Predicted_count  \n",
       "0        31.538964  \n",
       "1        23.316486  \n",
       "2        26.272617  \n",
       "3        33.930508  \n",
       "4        37.797137  "
      ]
     },
     "execution_count": 155,
     "metadata": {},
     "output_type": "execute_result"
    }
   ],
   "source": [
    "all_preds.head()"
   ]
  },
  {
   "cell_type": "code",
   "execution_count": 156,
   "id": "8fa8b55b",
   "metadata": {},
   "outputs": [],
   "source": [
    "# add increments to the predicted counts\n",
    "col_names = []\n",
    "counter = 0\n",
    "for i in all_preds.columns:\n",
    "    name = i + '_' + str(counter)\n",
    "    counter = counter + 1\n",
    "    col_names.append(name)"
   ]
  },
  {
   "cell_type": "code",
   "execution_count": 157,
   "id": "72279765",
   "metadata": {},
   "outputs": [],
   "source": [
    "# replace the old col names with new col names\n",
    "all_preds.columns = col_names"
   ]
  },
  {
   "cell_type": "code",
   "execution_count": 158,
   "id": "3a56b073",
   "metadata": {
    "scrolled": false
   },
   "outputs": [
    {
     "data": {
      "text/html": [
       "<div>\n",
       "<style scoped>\n",
       "    .dataframe tbody tr th:only-of-type {\n",
       "        vertical-align: middle;\n",
       "    }\n",
       "\n",
       "    .dataframe tbody tr th {\n",
       "        vertical-align: top;\n",
       "    }\n",
       "\n",
       "    .dataframe thead th {\n",
       "        text-align: right;\n",
       "    }\n",
       "</style>\n",
       "<table border=\"1\" class=\"dataframe\">\n",
       "  <thead>\n",
       "    <tr style=\"text-align: right;\">\n",
       "      <th></th>\n",
       "      <th>Image_name_0</th>\n",
       "      <th>Predicted_count_1</th>\n",
       "      <th>Predicted_count_2</th>\n",
       "    </tr>\n",
       "  </thead>\n",
       "  <tbody>\n",
       "    <tr>\n",
       "      <th>0</th>\n",
       "      <td>190812_djifc6310s_Aug12_NW_row_32_range_6_rep_...</td>\n",
       "      <td>31.716618</td>\n",
       "      <td>31.538964</td>\n",
       "    </tr>\n",
       "    <tr>\n",
       "      <th>1</th>\n",
       "      <td>190812_djifc6310s_Aug12_SE_row_21_range_3_rep_...</td>\n",
       "      <td>23.549171</td>\n",
       "      <td>23.316486</td>\n",
       "    </tr>\n",
       "    <tr>\n",
       "      <th>2</th>\n",
       "      <td>190812_djifc6310s_Aug12_SE_row_32_range_4_rep_...</td>\n",
       "      <td>25.550615</td>\n",
       "      <td>26.272617</td>\n",
       "    </tr>\n",
       "    <tr>\n",
       "      <th>3</th>\n",
       "      <td>190812_djifc6310s_Aug12_SW_row_11_range_2_rep_...</td>\n",
       "      <td>33.694989</td>\n",
       "      <td>33.930508</td>\n",
       "    </tr>\n",
       "    <tr>\n",
       "      <th>4</th>\n",
       "      <td>190814_djifc6310s_Aug14_NE_row_33_range_2_rep_...</td>\n",
       "      <td>37.640023</td>\n",
       "      <td>37.797137</td>\n",
       "    </tr>\n",
       "  </tbody>\n",
       "</table>\n",
       "</div>"
      ],
      "text/plain": [
       "                                        Image_name_0  Predicted_count_1  \\\n",
       "0  190812_djifc6310s_Aug12_NW_row_32_range_6_rep_...          31.716618   \n",
       "1  190812_djifc6310s_Aug12_SE_row_21_range_3_rep_...          23.549171   \n",
       "2  190812_djifc6310s_Aug12_SE_row_32_range_4_rep_...          25.550615   \n",
       "3  190812_djifc6310s_Aug12_SW_row_11_range_2_rep_...          33.694989   \n",
       "4  190814_djifc6310s_Aug14_NE_row_33_range_2_rep_...          37.640023   \n",
       "\n",
       "   Predicted_count_2  \n",
       "0          31.538964  \n",
       "1          23.316486  \n",
       "2          26.272617  \n",
       "3          33.930508  \n",
       "4          37.797137  "
      ]
     },
     "execution_count": 158,
     "metadata": {},
     "output_type": "execute_result"
    }
   ],
   "source": [
    "all_preds.head()"
   ]
  },
  {
   "cell_type": "code",
   "execution_count": 159,
   "id": "d859dc29",
   "metadata": {},
   "outputs": [],
   "source": [
    "# Import the true counts csv file\n",
    "true_counts = pd.read_csv(r\"C:\\Users\\15739\\Desktop\\UNL - all\\Fall 2022\\Manuscript\\Filtered_90\\codes_and_models\\true_counts_test_only_sample20.csv\")"
   ]
  },
  {
   "cell_type": "code",
   "execution_count": 160,
   "id": "6f40b051",
   "metadata": {},
   "outputs": [
    {
     "data": {
      "text/html": [
       "<div>\n",
       "<style scoped>\n",
       "    .dataframe tbody tr th:only-of-type {\n",
       "        vertical-align: middle;\n",
       "    }\n",
       "\n",
       "    .dataframe tbody tr th {\n",
       "        vertical-align: top;\n",
       "    }\n",
       "\n",
       "    .dataframe thead th {\n",
       "        text-align: right;\n",
       "    }\n",
       "</style>\n",
       "<table border=\"1\" class=\"dataframe\">\n",
       "  <thead>\n",
       "    <tr style=\"text-align: right;\">\n",
       "      <th></th>\n",
       "      <th>Image_name</th>\n",
       "      <th>True_count</th>\n",
       "    </tr>\n",
       "  </thead>\n",
       "  <tbody>\n",
       "    <tr>\n",
       "      <th>0</th>\n",
       "      <td>190812_djifc6310s_Aug12_NW_row_32_range_6_rep_...</td>\n",
       "      <td>53</td>\n",
       "    </tr>\n",
       "    <tr>\n",
       "      <th>1</th>\n",
       "      <td>190812_djifc6310s_Aug12_SE_row_21_range_3_rep_...</td>\n",
       "      <td>21</td>\n",
       "    </tr>\n",
       "    <tr>\n",
       "      <th>2</th>\n",
       "      <td>190812_djifc6310s_Aug12_SE_row_32_range_4_rep_...</td>\n",
       "      <td>19</td>\n",
       "    </tr>\n",
       "    <tr>\n",
       "      <th>3</th>\n",
       "      <td>190812_djifc6310s_Aug12_SW_row_11_range_2_rep_...</td>\n",
       "      <td>33</td>\n",
       "    </tr>\n",
       "    <tr>\n",
       "      <th>4</th>\n",
       "      <td>190814_djifc6310s_Aug14_NE_row_33_range_2_rep_...</td>\n",
       "      <td>50</td>\n",
       "    </tr>\n",
       "  </tbody>\n",
       "</table>\n",
       "</div>"
      ],
      "text/plain": [
       "                                          Image_name  True_count\n",
       "0  190812_djifc6310s_Aug12_NW_row_32_range_6_rep_...          53\n",
       "1  190812_djifc6310s_Aug12_SE_row_21_range_3_rep_...          21\n",
       "2  190812_djifc6310s_Aug12_SE_row_32_range_4_rep_...          19\n",
       "3  190812_djifc6310s_Aug12_SW_row_11_range_2_rep_...          33\n",
       "4  190814_djifc6310s_Aug14_NE_row_33_range_2_rep_...          50"
      ]
     },
     "execution_count": 160,
     "metadata": {},
     "output_type": "execute_result"
    }
   ],
   "source": [
    "true_counts.head()"
   ]
  },
  {
   "cell_type": "code",
   "execution_count": 161,
   "id": "bb8b367a",
   "metadata": {},
   "outputs": [],
   "source": [
    "true_count_col = true_counts['True_count']"
   ]
  },
  {
   "cell_type": "code",
   "execution_count": 162,
   "id": "c1efe765",
   "metadata": {
    "scrolled": true
   },
   "outputs": [
    {
     "data": {
      "text/html": [
       "<div>\n",
       "<style scoped>\n",
       "    .dataframe tbody tr th:only-of-type {\n",
       "        vertical-align: middle;\n",
       "    }\n",
       "\n",
       "    .dataframe tbody tr th {\n",
       "        vertical-align: top;\n",
       "    }\n",
       "\n",
       "    .dataframe thead th {\n",
       "        text-align: right;\n",
       "    }\n",
       "</style>\n",
       "<table border=\"1\" class=\"dataframe\">\n",
       "  <thead>\n",
       "    <tr style=\"text-align: right;\">\n",
       "      <th></th>\n",
       "      <th>Image_name_0</th>\n",
       "      <th>Predicted_count_1</th>\n",
       "      <th>Predicted_count_2</th>\n",
       "    </tr>\n",
       "  </thead>\n",
       "  <tbody>\n",
       "    <tr>\n",
       "      <th>0</th>\n",
       "      <td>190812_djifc6310s_Aug12_NW_row_32_range_6_rep_...</td>\n",
       "      <td>31.716618</td>\n",
       "      <td>31.538964</td>\n",
       "    </tr>\n",
       "    <tr>\n",
       "      <th>1</th>\n",
       "      <td>190812_djifc6310s_Aug12_SE_row_21_range_3_rep_...</td>\n",
       "      <td>23.549171</td>\n",
       "      <td>23.316486</td>\n",
       "    </tr>\n",
       "    <tr>\n",
       "      <th>2</th>\n",
       "      <td>190812_djifc6310s_Aug12_SE_row_32_range_4_rep_...</td>\n",
       "      <td>25.550615</td>\n",
       "      <td>26.272617</td>\n",
       "    </tr>\n",
       "    <tr>\n",
       "      <th>3</th>\n",
       "      <td>190812_djifc6310s_Aug12_SW_row_11_range_2_rep_...</td>\n",
       "      <td>33.694989</td>\n",
       "      <td>33.930508</td>\n",
       "    </tr>\n",
       "    <tr>\n",
       "      <th>4</th>\n",
       "      <td>190814_djifc6310s_Aug14_NE_row_33_range_2_rep_...</td>\n",
       "      <td>37.640023</td>\n",
       "      <td>37.797137</td>\n",
       "    </tr>\n",
       "    <tr>\n",
       "      <th>...</th>\n",
       "      <td>...</td>\n",
       "      <td>...</td>\n",
       "      <td>...</td>\n",
       "    </tr>\n",
       "    <tr>\n",
       "      <th>60</th>\n",
       "      <td>190905_djifc6310s_Sept5_SE_row_12_range_6_rep_...</td>\n",
       "      <td>30.788614</td>\n",
       "      <td>30.866648</td>\n",
       "    </tr>\n",
       "    <tr>\n",
       "      <th>61</th>\n",
       "      <td>190905_djifc6310s_Sept5_SW_row_11_range_2_rep_...</td>\n",
       "      <td>30.021164</td>\n",
       "      <td>30.401564</td>\n",
       "    </tr>\n",
       "    <tr>\n",
       "      <th>62</th>\n",
       "      <td>190905_djifc6310s_Sept5_SW_row_31_range_2_rep_...</td>\n",
       "      <td>51.282161</td>\n",
       "      <td>52.057098</td>\n",
       "    </tr>\n",
       "    <tr>\n",
       "      <th>63</th>\n",
       "      <td>190905_djifc6310s_Sept5_SW_row_32_range_5_rep_...</td>\n",
       "      <td>37.025334</td>\n",
       "      <td>37.792152</td>\n",
       "    </tr>\n",
       "    <tr>\n",
       "      <th>64</th>\n",
       "      <td>190905_djifc6310s_Sept5_SW_row_34_range_4_rep_...</td>\n",
       "      <td>25.251861</td>\n",
       "      <td>25.174351</td>\n",
       "    </tr>\n",
       "  </tbody>\n",
       "</table>\n",
       "<p>65 rows × 3 columns</p>\n",
       "</div>"
      ],
      "text/plain": [
       "                                         Image_name_0  Predicted_count_1  \\\n",
       "0   190812_djifc6310s_Aug12_NW_row_32_range_6_rep_...          31.716618   \n",
       "1   190812_djifc6310s_Aug12_SE_row_21_range_3_rep_...          23.549171   \n",
       "2   190812_djifc6310s_Aug12_SE_row_32_range_4_rep_...          25.550615   \n",
       "3   190812_djifc6310s_Aug12_SW_row_11_range_2_rep_...          33.694989   \n",
       "4   190814_djifc6310s_Aug14_NE_row_33_range_2_rep_...          37.640023   \n",
       "..                                                ...                ...   \n",
       "60  190905_djifc6310s_Sept5_SE_row_12_range_6_rep_...          30.788614   \n",
       "61  190905_djifc6310s_Sept5_SW_row_11_range_2_rep_...          30.021164   \n",
       "62  190905_djifc6310s_Sept5_SW_row_31_range_2_rep_...          51.282161   \n",
       "63  190905_djifc6310s_Sept5_SW_row_32_range_5_rep_...          37.025334   \n",
       "64  190905_djifc6310s_Sept5_SW_row_34_range_4_rep_...          25.251861   \n",
       "\n",
       "    Predicted_count_2  \n",
       "0           31.538964  \n",
       "1           23.316486  \n",
       "2           26.272617  \n",
       "3           33.930508  \n",
       "4           37.797137  \n",
       "..                ...  \n",
       "60          30.866648  \n",
       "61          30.401564  \n",
       "62          52.057098  \n",
       "63          37.792152  \n",
       "64          25.174351  \n",
       "\n",
       "[65 rows x 3 columns]"
      ]
     },
     "execution_count": 162,
     "metadata": {},
     "output_type": "execute_result"
    }
   ],
   "source": [
    "all_preds"
   ]
  },
  {
   "cell_type": "code",
   "execution_count": 164,
   "id": "21d2749f",
   "metadata": {},
   "outputs": [],
   "source": [
    "# get the substracted values from each column\n",
    "preds_only_df = all_preds.drop('Image_name_0', axis = 1)"
   ]
  },
  {
   "cell_type": "code",
   "execution_count": 165,
   "id": "8e233d31",
   "metadata": {},
   "outputs": [],
   "source": [
    "subtracted_cols = abs(preds_nly_df.sub(true_count_col, axis = 0))"
   ]
  },
  {
   "cell_type": "code",
   "execution_count": 166,
   "id": "df72eac7",
   "metadata": {},
   "outputs": [
    {
     "data": {
      "text/plain": [
       "Predicted_count_1    8.920771\n",
       "Predicted_count_2    9.443604\n",
       "dtype: float64"
      ]
     },
     "execution_count": 166,
     "metadata": {},
     "output_type": "execute_result"
    }
   ],
   "source": [
    "subtracted_cols.mean()"
   ]
  },
  {
   "cell_type": "code",
   "execution_count": 167,
   "id": "a1788d35",
   "metadata": {},
   "outputs": [
    {
     "data": {
      "text/plain": [
       "9.182187500000001"
      ]
     },
     "execution_count": 167,
     "metadata": {},
     "output_type": "execute_result"
    }
   ],
   "source": [
    "0.5 * (8.920771 + 9.443604)"
   ]
  },
  {
   "cell_type": "code",
   "execution_count": 168,
   "id": "ef75f4ff",
   "metadata": {},
   "outputs": [
    {
     "data": {
      "text/plain": [
       "9.182187599413034"
      ]
     },
     "execution_count": 168,
     "metadata": {},
     "output_type": "execute_result"
    }
   ],
   "source": [
    "mean_all = subtracted_cols.mean().mean()\n",
    "mean_all"
   ]
  },
  {
   "cell_type": "code",
   "execution_count": 169,
   "id": "814a9edf",
   "metadata": {},
   "outputs": [],
   "source": [
    "std_all = subtracted_cols.mean().std()"
   ]
  },
  {
   "cell_type": "code",
   "execution_count": 170,
   "id": "30819227",
   "metadata": {},
   "outputs": [],
   "source": [
    "lower_bnd = mean_all - 1.96*(std_all/np.sqrt(65))"
   ]
  },
  {
   "cell_type": "code",
   "execution_count": 171,
   "id": "c0eec372",
   "metadata": {},
   "outputs": [
    {
     "data": {
      "text/plain": [
       "9.092310731530011"
      ]
     },
     "execution_count": 171,
     "metadata": {},
     "output_type": "execute_result"
    }
   ],
   "source": [
    "lower_bnd"
   ]
  },
  {
   "cell_type": "code",
   "execution_count": 172,
   "id": "39f15ff5",
   "metadata": {},
   "outputs": [],
   "source": [
    "upper_bnd = mean_all + 1.96*(std_all/np.sqrt(65))"
   ]
  },
  {
   "cell_type": "code",
   "execution_count": 174,
   "id": "2ebf781a",
   "metadata": {},
   "outputs": [
    {
     "data": {
      "text/plain": [
       "9.272064467296056"
      ]
     },
     "execution_count": 174,
     "metadata": {},
     "output_type": "execute_result"
    }
   ],
   "source": [
    "upper_bnd"
   ]
  },
  {
   "cell_type": "code",
   "execution_count": 178,
   "id": "e841dd52",
   "metadata": {},
   "outputs": [],
   "source": [
    "# sanity check to see if the column names in the two dataframes are the same or not\n",
    "all_names_only = []\n",
    "for i in true_counts['Image_name']:\n",
    "    name = i.split('.')[0]\n",
    "    name_new = name + '.npy'\n",
    "    all_names_only.append(name_new)\n",
    "    \n",
    "# get the names from the other df\n",
    "names_list = all_preds[\"Image_name_0\"].to_list()"
   ]
  },
  {
   "cell_type": "code",
   "execution_count": 181,
   "id": "646dbd8d",
   "metadata": {},
   "outputs": [
    {
     "data": {
      "text/plain": [
       "True"
      ]
     },
     "execution_count": 181,
     "metadata": {},
     "output_type": "execute_result"
    }
   ],
   "source": [
    "# all names same?\n",
    "all_names_only == names_list"
   ]
  }
 ],
 "metadata": {
  "kernelspec": {
   "display_name": "gayarad",
   "language": "python",
   "name": "gayarad"
  },
  "language_info": {
   "codemirror_mode": {
    "name": "ipython",
    "version": 3
   },
   "file_extension": ".py",
   "mimetype": "text/x-python",
   "name": "python",
   "nbconvert_exporter": "python",
   "pygments_lexer": "ipython3",
   "version": "3.8.8"
  }
 },
 "nbformat": 4,
 "nbformat_minor": 5
}
