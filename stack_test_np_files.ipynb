{
 "cells": [
  {
   "cell_type": "code",
   "execution_count": 1,
   "id": "c6ff1ded",
   "metadata": {},
   "outputs": [],
   "source": [
    "# import the necessary libraries\n",
    "import pandas as pd\n",
    "import numpy as np\n",
    "import matplotlib.pyplot as plt\n",
    "import os\n",
    "import random\n",
    "import shutil\n",
    "import cv2\n",
    "from scipy import ndimage\n",
    "from skimage.transform import resize\n",
    "from joblib import Parallel, delayed\n",
    "import tensorflow as tf\n",
    "from sklearn.model_selection import KFold\n",
    "from tqdm.notebook import tqdm"
   ]
  },
  {
   "cell_type": "code",
   "execution_count": 2,
   "id": "2d7d5660",
   "metadata": {},
   "outputs": [],
   "source": [
    "# names of teh np files\n",
    "numpy_folder = r\"C:\\Users\\15739\\Desktop\\UNL - all\\Fall 2022\\Manuscript\\Filtered_90\\np_test_filtered90\"\n",
    "test_files = os.listdir(numpy_folder)"
   ]
  },
  {
   "cell_type": "code",
   "execution_count": 3,
   "id": "761e4dba",
   "metadata": {},
   "outputs": [
    {
     "data": {
      "text/plain": [
       "65"
      ]
     },
     "execution_count": 3,
     "metadata": {},
     "output_type": "execute_result"
    }
   ],
   "source": [
    "# hpw many in here?\n",
    "len(test_files)"
   ]
  },
  {
   "cell_type": "code",
   "execution_count": 4,
   "id": "21a944ab",
   "metadata": {},
   "outputs": [],
   "source": [
    "# get the subwindows in stacks, and store these\n",
    "def prediction_on_test_data(selected_file, stride = 8, kernel_size = 32):\n",
    "\n",
    "# load the image data file\n",
    "    load_image = np.load(numpy_folder + \"\\\\\"+ selected_file)\n",
    "    \n",
    "    # append the subwindows together\n",
    "\n",
    "    # get the subwindows\n",
    "    sub_windows = []\n",
    "\n",
    "    # get the image height\n",
    "    img_height = load_image.shape[0]\n",
    "    # get the image weight\n",
    "    img_width = load_image.shape[1]\n",
    "\n",
    "    for i in  range(0, img_height, stride):\n",
    "        for j in range(0, img_width, stride):\n",
    "            sub_window = load_image[i: i + kernel_size, j : j + kernel_size,:]\n",
    "#             resize the sub window\n",
    "            sub_window = resize(sub_window, (32,32,3))\n",
    "    #     append the sub window images\n",
    "            sub_windows.append((sub_window))\n",
    "\n",
    "#         stack the subwindows together to pass to the predict function\n",
    "    all_test_sub_windows = np.stack(sub_windows)\n",
    "    \n",
    "    return(all_test_sub_windows)"
   ]
  },
  {
   "cell_type": "code",
   "execution_count": 6,
   "id": "ab199876",
   "metadata": {},
   "outputs": [],
   "source": [
    "np_file = prediction_on_test_data(test_files[0])"
   ]
  },
  {
   "cell_type": "code",
   "execution_count": 8,
   "id": "4b815406",
   "metadata": {},
   "outputs": [
    {
     "data": {
      "text/plain": [
       "'190812_djifc6310s_Aug12_NW_row_32_range_6_rep_6_isref_1_90.npy'"
      ]
     },
     "execution_count": 8,
     "metadata": {},
     "output_type": "execute_result"
    }
   ],
   "source": [
    "test_files[0]"
   ]
  },
  {
   "cell_type": "code",
   "execution_count": 10,
   "id": "c000e185",
   "metadata": {},
   "outputs": [],
   "source": [
    "# save the files\n",
    "\n",
    "store_test_np = r\"C:\\Users\\15739\\Desktop\\UNL - all\\Fall 2022\\Manuscript\\Filtered_90\\test_np_stacks_hcc\"\n",
    "for test_file in test_files:\n",
    "    np_file = prediction_on_test_data(test_file)\n",
    "    np.save(store_test_np + \"\\\\\" + test_file, np_file)"
   ]
  }
 ],
 "metadata": {
  "kernelspec": {
   "display_name": "gayarad",
   "language": "python",
   "name": "gayarad"
  },
  "language_info": {
   "codemirror_mode": {
    "name": "ipython",
    "version": 3
   },
   "file_extension": ".py",
   "mimetype": "text/x-python",
   "name": "python",
   "nbconvert_exporter": "python",
   "pygments_lexer": "ipython3",
   "version": "3.8.8"
  }
 },
 "nbformat": 4,
 "nbformat_minor": 5
}
